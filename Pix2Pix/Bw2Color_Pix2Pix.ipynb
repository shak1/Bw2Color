{
  "nbformat": 4,
  "nbformat_minor": 0,
  "metadata": {
    "accelerator": "GPU",
    "colab": {
      "name": "Bw2Color_Pix2Pix",
      "provenance": [],
      "collapsed_sections": [
        "xBhWK4ERJu0Z"
      ]
    },
    "kernelspec": {
      "display_name": "Python 3",
      "name": "python3"
    }
  },
  "cells": [
    {
      "cell_type": "markdown",
      "metadata": {
        "id": "MTfkcyJ_-DWs"
      },
      "source": [
        "# Prerequisites"
      ]
    },
    {
      "cell_type": "code",
      "metadata": {
        "id": "Bw45vVGFdFdp"
      },
      "source": [
        "!pip install -q -U progressbar2"
      ],
      "execution_count": null,
      "outputs": []
    },
    {
      "cell_type": "code",
      "metadata": {
        "id": "ceXOdXEIcqrt"
      },
      "source": [
        "import tensorflow as tf\n",
        "from tensorflow.keras.layers import Conv2D, BatchNormalization, LeakyReLU, Dropout, Layer, MaxPooling2D\n",
        "from tensorflow.keras.layers import ReLU, Input, Conv2DTranspose, Concatenate, ZeroPadding2D\n",
        "from tensorflow.keras import  Model\n",
        "import os\n",
        "from math import log2\n",
        "import time\n",
        "import matplotlib\n",
        "from matplotlib import pyplot as plt\n",
        "from matplotlib import gridspec\n",
        "from mpl_toolkits.axes_grid1 import ImageGrid\n",
        "import numpy as np\n",
        "from IPython.display import clear_output\n",
        "import shutil\n",
        "import progressbar\n",
        "\n",
        "matplotlib.use('Agg')\n",
        "plt.ioff()"
      ],
      "execution_count": null,
      "outputs": []
    },
    {
      "cell_type": "code",
      "metadata": {
        "id": "512oCoGLdQg-"
      },
      "source": [
        "#Buffer size of the input pipeline\n",
        "BUFFER_SIZE = 50000\n",
        "#Batch size\n",
        "BATCH_SIZE= 4\n",
        "#Number of epochs\n",
        "EPOCHS = 100\n",
        "#Image size\n",
        "IMG_SIZE = 128\n",
        "#Number of output channel(in this case 2)\n",
        "OUTPUT_CHANNELS = 2\n",
        "#Lambda value of the generator function\n",
        "LAMBDA = 10\n",
        "#FOlder containing the datasets.\n",
        "BASE_PATH = '/content/drive/My Drive/Bw2Color'"
      ],
      "execution_count": null,
      "outputs": []
    },
    {
      "cell_type": "markdown",
      "metadata": {
        "id": "toX58bLj-eNP"
      },
      "source": [
        "Download the training/val dataset from the google drive"
      ]
    },
    {
      "cell_type": "code",
      "metadata": {
        "colab": {
          "base_uri": "https://localhost:8080/"
        },
        "id": "47MZB9LMvgLQ",
        "outputId": "1565bfc2-556c-4f8e-e89d-7cb76a832ebc"
      },
      "source": [
        "#mount the drive.\n",
        "from google.colab import drive\n",
        "drive.mount('/content/drive/')"
      ],
      "execution_count": null,
      "outputs": [
        {
          "output_type": "stream",
          "text": [
            "Mounted at /content/drive/\n"
          ],
          "name": "stdout"
        }
      ]
    },
    {
      "cell_type": "code",
      "metadata": {
        "id": "fjIXznY5eIHy"
      },
      "source": [
        "#download the the training set.\n",
        "shutil.copy(f'{BASE_PATH}/Train.zip', \".\")\n",
        "!unzip -q Train.zip\n",
        "!rm Train.zip"
      ],
      "execution_count": null,
      "outputs": []
    },
    {
      "cell_type": "code",
      "metadata": {
        "id": "0i5rEK-grh7U"
      },
      "source": [
        "#download the the validation set.\n",
        "shutil.copy(f'{BASE_PATH}/Val.zip', \".\")\n",
        "!unzip -q Val.zip\n",
        "!rm Val.zip"
      ],
      "execution_count": null,
      "outputs": []
    },
    {
      "cell_type": "markdown",
      "metadata": {
        "id": "kHiFF-bs-rLZ"
      },
      "source": [
        "# Data preprocessing\n",
        "\n",
        "Here we define the necessary functions for the online preprocessing steps."
      ]
    },
    {
      "cell_type": "code",
      "metadata": {
        "id": "G6MT9V9mAD5l"
      },
      "source": [
        "\"\"\"\n",
        "Convert a bath of images from the RGB space to LAB space\n",
        "(Code adapted from:https://github.com/xahidbuffon/TF_RGB_LAB/blob/master/rgb_lab_formulation.py).\n",
        "\"\"\"\n",
        "def convert2lab(img):\n",
        "  srgb_pixels = tf.reshape(img, [-1, 3])\n",
        "  \n",
        "  linear_mask = tf.cast(srgb_pixels <= 0.04045, dtype=tf.float32)\n",
        "  exponential_mask = tf.cast(srgb_pixels > 0.04045, dtype=tf.float32)\n",
        "  rgb_pixels = (srgb_pixels / 12.92 * linear_mask) + (((srgb_pixels + 0.055) / 1.055) ** 2.4) * exponential_mask\n",
        "  rgb_to_xyz = tf.constant([\n",
        "      #    X        Y          Z\n",
        "      [0.412453, 0.212671, 0.019334], # R\n",
        "      [0.357580, 0.715160, 0.119193], # G\n",
        "      [0.180423, 0.072169, 0.950227], # B\n",
        "  ])\n",
        "  xyz_pixels = tf.matmul(rgb_pixels, rgb_to_xyz)\n",
        " \n",
        "# https://en.wikipedia.org/wiki/Lab_color_space#CIELAB-CIEXYZ_conversions\n",
        "  xyz_normalized_pixels = tf.multiply(xyz_pixels, [1/0.950456, 1.0, 1/1.088754])\n",
        " \n",
        "  epsilon = 6/29\n",
        "  linear_mask = tf.cast(xyz_normalized_pixels <= (epsilon**3), dtype=tf.float32)\n",
        "  exponential_mask = tf.cast(xyz_normalized_pixels > (epsilon**3), dtype=tf.float32)\n",
        "  fxfyfz_pixels = (xyz_normalized_pixels / (3 * epsilon**2) + 4/29) * linear_mask + (xyz_normalized_pixels ** (1/3)) * exponential_mask\n",
        " \n",
        "  # convert to lab\n",
        "  fxfyfz_to_lab = tf.constant([\n",
        "      #  l       a       b\n",
        "      [  0.0,  500.0,    0.0], # fx\n",
        "      [116.0, -500.0,  200.0], # fy\n",
        "      [  0.0,    0.0, -200.0], # fz\n",
        "  ])\n",
        "  lab_pixels = tf.matmul(fxfyfz_pixels, fxfyfz_to_lab) + tf.constant([-16.0, 0.0, 0.0])\n",
        " \n",
        "  return tf.reshape(lab_pixels, tf.shape(img))\n",
        "\n",
        "\"\"\"\n",
        "Convert a bath of images from the LAB space to  space\n",
        "(Code adapted from:https://github.com/xahidbuffon/TF_RGB_LAB/blob/master/rgb_lab_formulation.py).\n",
        "\"\"\"\n",
        "\n",
        "def convert2rgb(lab):\n",
        "  lab_pixels = tf.reshape(lab, [-1, 3])\n",
        "# https://en.wikipedia.org/wiki/Lab_color_space#CIELAB-CIEXYZ_conversions\n",
        "  # convert to fxfyfz\n",
        "  lab_to_fxfyfz = tf.constant([\n",
        "      #   fx      fy        fz\n",
        "      [1/116.0, 1/116.0,  1/116.0], # l\n",
        "      [1/500.0,     0.0,      0.0], # a\n",
        "      [    0.0,     0.0, -1/200.0], # b\n",
        "  ])\n",
        "  fxfyfz_pixels = tf.matmul(lab_pixels + tf.constant([16.0, 0.0, 0.0]), lab_to_fxfyfz)\n",
        "\n",
        "  # convert to xyz\n",
        "  epsilon = 6/29\n",
        "  linear_mask = tf.cast(fxfyfz_pixels <= epsilon, dtype=tf.float32)\n",
        "  exponential_mask = tf.cast(fxfyfz_pixels > epsilon, dtype=tf.float32)\n",
        "  xyz_pixels = (3 * epsilon**2 * (fxfyfz_pixels - 4/29)) * linear_mask + (fxfyfz_pixels ** 3) * exponential_mask\n",
        "\n",
        "    # denormalize for D65 white point\n",
        "  xyz_pixels = tf.multiply(xyz_pixels, [0.950456, 1.0, 1.088754])\n",
        "\n",
        "      \n",
        "  xyz_to_rgb = tf.constant([\n",
        "      #     r           g          b\n",
        "      [ 3.2404542, -0.9692660,  0.0556434], # x\n",
        "      [-1.5371385,  1.8760108, -0.2040259], # y\n",
        "      [-0.4985314,  0.0415560,  1.0572252], # z\n",
        "  ])\n",
        "  rgb_pixels = tf.matmul(xyz_pixels, xyz_to_rgb)\n",
        "  # avoid a slightly negative number messing up the conversion\n",
        "  rgb_pixels = tf.clip_by_value(rgb_pixels, 0.0, 1.0)\n",
        "  linear_mask = tf.cast(rgb_pixels <= 0.0031308, dtype=tf.float32)\n",
        "  exponential_mask = tf.cast(rgb_pixels > 0.0031308, dtype=tf.float32)\n",
        "  srgb_pixels = (rgb_pixels * 12.92 * linear_mask) + ((rgb_pixels ** (1/2.4) * 1.055) - 0.055) * exponential_mask\n",
        "\n",
        "  return tf.reshape(srgb_pixels, tf.shape(lab))\n"
      ],
      "execution_count": null,
      "outputs": []
    },
    {
      "cell_type": "code",
      "metadata": {
        "id": "g1Iy5SyOdXTx"
      },
      "source": [
        "\"\"\"\n",
        "Resize an image so that the shortest side is of the given size while maintaing the\n",
        "aspect-ration.\n",
        "\"\"\"\n",
        "def resize_with_ratio(img, size):\n",
        "  #retrieve the size of the image.\n",
        "  w, h = tf.shape(img)[0], tf.shape(img)[1]\n",
        " \n",
        "  #calculate the new size.\n",
        "  new_height = h * size // tf.minimum(w, h)\n",
        "  new_width = w * size // tf.minimum(w, h)\n",
        "  \n",
        "  #reize the image.\n",
        "  img = tf.image.resize(img, [new_width, new_height], method=tf.image.ResizeMethod.NEAREST_NEIGHBOR)\n",
        "  return img\n",
        " \n",
        "\n",
        "\"\"\"\n",
        "Extract a square patch of the given size from the center of the image.\n",
        "\"\"\"\n",
        "def center_crop(img, size):\n",
        "  #retrieve the size of the image.\n",
        "  w, h = tf.shape(img)[0], tf.shape(img)[1]\n",
        "\n",
        "  #calculate the left-uppermost coordinates of the pacth being extraxted.\n",
        "  x = (w - IMG_SIZE)//2\n",
        "  y = (h - IMG_SIZE)//2\n",
        "\n",
        "  #crop the central patch.\n",
        "  img = tf.image.crop_to_bounding_box(img, x, y, IMG_SIZE, IMG_SIZE)\n",
        "  return img\n",
        " \n",
        "\"\"\"\n",
        "Normalize a batch images in lab space so that each pixel is in the range [-1, 1].\n",
        "\"\"\"\n",
        "def normalise(lab_imgs):\n",
        "  #reshape the batch of images to (batch*height*width, num_channel)..\n",
        "  imgs = tf.reshape(lab_imgs, [-1, 3])\n",
        "  #nomarmalise the values.\n",
        "  normalised = (imgs / [50.0, 110.0, 110.0] ) - [1.0, 0.0, 0.0]\n",
        "  #reshape the array to the original shape.\n",
        "  return tf.reshape(normalised, tf.shape(lab_imgs))\n",
        "\n",
        "\"\"\"\n",
        "Denormalise values of a batch of images in lab space to the original range.\n",
        "\"\"\"\n",
        "def denormalise(lab_imgs):\n",
        "  #reshape the batch of images to (batch*height*width, num_channel).\n",
        "  imgs = tf.reshape(lab_imgs, [-1, 3])\n",
        "  #nomarmalise the values.\n",
        "  unormalised = (imgs + [1.0, 0.0, 0.0]) * [50.0, 110.0, 110.0]\n",
        "  #reshape the array to the original shape.\n",
        "  return tf.reshape(unormalised, tf.shape(lab_imgs))\n",
        "\n",
        "\"\"\"\n",
        "Randomly flip the image on the vertical axis.\n",
        "\"\"\"\n",
        "def data_augmentation(img):\n",
        "  img = tf.image.random_flip_left_right(img)\n",
        "  return img\n",
        "\n",
        "\"\"\"\n",
        "Recontruct the RGB image given the L-channel and AB-channels.\n",
        "Values are in the range [0, 1] if the rescale is Fasle, otherwise they are\n",
        "rescaled to the range [0, 255].\n",
        "\"\"\"\n",
        "def post_process(L, AB, rescale=False):\n",
        "  #concatenate the L and AB channels.\n",
        "  image_lab = tf.concat([L, AB], axis=-1)\n",
        "  #denormalise the values.\n",
        "  image_lab = denormalise(image_lab)\n",
        "  #convert the image back to the rgb space.\n",
        "  img_rgb = convert2rgb(image_lab)\n",
        "  #rescale the values to the range [0, 255] if required.\n",
        "  if rescale:\n",
        "    img_rgb = img_rgb*255.0\n",
        "\n",
        "  return img_rgb"
      ],
      "execution_count": null,
      "outputs": []
    },
    {
      "cell_type": "markdown",
      "metadata": {
        "id": "_0HBzw8aGTbx"
      },
      "source": [
        "# Input pipeline\n",
        "\n",
        "Here we create the input pipeline for the trainig dataset and validation dataset which will be used to generated images during the training process in order to assess the performance of the generator. "
      ]
    },
    {
      "cell_type": "code",
      "metadata": {
        "id": "aqKJzF-5dp_S"
      },
      "source": [
        "\"\"\"\n",
        "Load the image.\n",
        "\"\"\"\n",
        "def load(image_path):\n",
        "  #read the content of the file.\n",
        "  img = tf.io.read_file(image_path)\n",
        "  #decode the content of the file as jpeg image.\n",
        "  img = tf.image.decode_jpeg(img, channels=3)\n",
        "  #scale the values so that the fall in the range [0, 1].\n",
        "  img = tf.cast(img, dtype=tf.float32)/255.0\n",
        "  return img\n",
        " \n",
        "\"\"\"\n",
        "Load an image and apply the preprocess step.\n",
        "Return a tuple made of the luminance channel L, the chromatic channels AB\n",
        "and the path of the image.\n",
        "\"\"\"\n",
        "def load_image_train(file_path):\n",
        "  #load the image.\n",
        "  img = load(file_path)\n",
        "  #apply data augmentation\n",
        "  img = tf.image.random_flip_left_right(img)\n",
        "  #convert to lab space.\n",
        "  lab_img = convert2lab(img)\n",
        "  #normalise the values.\n",
        "  lab_img = normalise(lab_img)\n",
        "  #extract the luminance channel.\n",
        "  L = lab_img[:,:,0][..., tf.newaxis]\n",
        "  #extract the chromatic channels\n",
        "  AB = tf.stack([lab_img[:,:,1], lab_img[:,:,2]], axis=-1)\n",
        "\n",
        "  return L, AB, file_path\n",
        " \n",
        "\"\"\"\n",
        "Load an image and apply the preprocess step without the data augmentation.\n",
        "Return a tuple made of the luminance channel L and the path of the image.\n",
        " \"\"\"\n",
        "\n",
        "#load an image and cretes the couple (L, RGB)\n",
        "def load_image_test(file_path):\n",
        "  #load image as RGB.\n",
        "  img = load(file_path)\n",
        "  #Convert the image to LAB Space.\n",
        "  lab_img = convert2lab(img)\n",
        "  #Nomalise the values so that they are in the range [-1, -1]\n",
        "  lab_img = normalise(lab_img)\n",
        "  #Extract the L channel.\n",
        "  L = lab_img[:,:,0][..., tf.newaxis]\n",
        "  return L, img, file_path\n",
        "\n",
        "AUTOTUNE = tf.data.experimental.AUTOTUNE\n",
        "\n",
        "#create the training dataset pipeline.\n",
        "train_dataset = tf.data.Dataset.list_files('/content/Train/*.jpg')\n",
        "                                              \n",
        "train_dataset = train_dataset.shuffle(BUFFER_SIZE)\\\n",
        "                            .map(load_image_train, num_parallel_calls=AUTOTUNE)\\\n",
        "                            .batch(BATCH_SIZE)\\\n",
        "                            .prefetch(AUTOTUNE)\n",
        "\n",
        "#create the validation dataset pipeline.\n",
        "val_dataset = tf.data.Dataset.list_files('/content/Val/*.jpg', shuffle=False)\n",
        "                                              \n",
        "val_dataset = val_dataset.map(load_image_test)\\\n",
        "                          .batch(BATCH_SIZE)\\\n",
        "                          .prefetch(AUTOTUNE)"
      ],
      "execution_count": null,
      "outputs": []
    },
    {
      "cell_type": "markdown",
      "metadata": {
        "id": "T2KSN6z0JwLb"
      },
      "source": [
        "# Building blocks\n",
        "\n",
        "Here we create the building blocks that is the _Conv-BatchNorm-ReLu_ and _TransposeConv-BatchNorm-Dropout-ReLu_ modulues that compose the encoder and decoder of the generator. Each _Conv_ layer in the encoder downsample the input by a factor of two by using a 4x4 kernel, stride 2 and same padding. Each _TransposedConv_ layer in decoder upsample the input by a factor of two by using a 4x4 kernel, stride 2 and same padding."
      ]
    },
    {
      "cell_type": "code",
      "metadata": {
        "id": "eqjWABii_OSl"
      },
      "source": [
        "\"\"\"\n",
        "Define the Conv-BatchNorm-ReLu block for the encoder part of the generator.\n",
        "\"\"\"\n",
        "def down_sample(input, filters, apply_batchnorm=True):\n",
        "  #initialize the weight with a normal distribution with mean 0 and standard deviation on 0.02.\n",
        "  initializer = tf.random_normal_initializer(0., 0.02)\n",
        "\n",
        "  #apply the convultion layer.\n",
        "  x = Conv2D(filters, 4, strides=2, padding='same', kernel_initializer=initializer, use_bias=False)(input)\n",
        "  #apply the batch normalization layer if required.\n",
        "  if apply_batchnorm:\n",
        "    x = BatchNormalization()(x,training=True)\n",
        "  #apply the leaky relu activation function.\n",
        "  x = LeakyReLU(alpha=0.2)(x)\n",
        "\n",
        "  return x\n",
        "\n",
        "\"\"\"\n",
        "Define the Conv-BatchNorm-Droput-ReLu block for the decoder part of the generator.\n",
        "\"\"\"\n",
        "def up_sample(input, skip, filters, apply_dropout=False):\n",
        "  #initialize the weight with a normal distribution with mean 0 and standard deviation on 0.02.\n",
        "  initializer = tf.random_normal_initializer(0., 0.02)\n",
        "\n",
        "  #apply the transposed convultion layer.\n",
        "  x = Conv2DTranspose(filters, 4, strides=2, padding='same', kernel_initializer=initializer, use_bias=False)(input)\n",
        "  #apply the batch normalization layer.\n",
        "  x = BatchNormalization()(x,training=True)\n",
        "  #apply the dropout layer if required.\n",
        "  if apply_dropout:\n",
        "    x = Dropout(0.5)(x, training=True)\n",
        "  #apply the ReLu activation function.\n",
        "  x = ReLU()(x)\n",
        "  #concatenate the activations if i and n-i layers.\n",
        "  x = Concatenate()([x, skip])\n",
        "\n",
        "  return x"
      ],
      "execution_count": null,
      "outputs": []
    },
    {
      "cell_type": "markdown",
      "metadata": {
        "id": "tGpWRqs5HfMo"
      },
      "source": [
        "# Generator\n",
        "\n",
        "The Generator has encoder-decoder architecture with skip connection between the _i_-th layer and _n-i_-th layer of the model. Each block of the encoder has the from of _Conv->Batchnorm->ReLU_ and while the decoder has blocks of the from _TransposedConv->Batchnorm->Dropout(applied to the first 2 blocks)->ReLU_. It takes in input the luminance L channel as a 128x128x1 tensor and produce the chromatic _a_ and _b_ channels as 128x128x2 tensor."
      ]
    },
    {
      "cell_type": "code",
      "metadata": {
        "id": "NjLXtuSafGPt"
      },
      "source": [
        "\"\"\"\n",
        "Define the architecture of the generator.\n",
        "\"\"\"\n",
        "def define_generator(input_shape, output_channel, n_blocks):\n",
        "  #initialize the weight with a normal distribution with mean 0 and standard deviation on 0.02.\n",
        "  initializer = tf.random_normal_initializer(0., 0.02)\n",
        "  #define the input.\n",
        "  inputs = Input(input_shape)\n",
        "\n",
        "  #the number of initial filters.\n",
        "  min_filters = 64\n",
        "  \n",
        "  #build the encoder part of the generator.\n",
        "  x = down_sample(inputs, 64, apply_batchnorm=False)\n",
        "  skips = [x]\n",
        "  nb_filters = [min_filters]\n",
        "  for i in range(1, n_blocks - 1):\n",
        "    filters = min_filters * min(8, (2 ** i))\n",
        "    x = down_sample(x, filters)\n",
        "    skips.append(x)\n",
        "    nb_filters.append(filters)\n",
        "  \n",
        "  #central block of the encoder-decoder \n",
        "  x = down_sample(x, 512, apply_batchnorm=False)\n",
        "\n",
        "  #build the decoder part of the generator. \n",
        "  nb_filters = reversed(nb_filters)\n",
        "  skips = reversed(skips)\n",
        "  for i, (filters, skip) in enumerate(zip(nb_filters, skips)):\n",
        "    apply_dp = i < 2\n",
        "    x = up_sample(x, skip, filters, apply_dropout=apply_dp)\n",
        "\n",
        "  #apply the last convolution layer with tanh activation function\n",
        "  output = Conv2DTranspose(output_channel, \n",
        "                          4, \n",
        "                          strides=2, \n",
        "                          padding='same', \n",
        "                          kernel_initializer=initializer,\n",
        "                          activation='tanh')(x) \n",
        "  #return the model.\n",
        "  return Model(inputs=inputs, outputs=output)"
      ],
      "execution_count": null,
      "outputs": []
    },
    {
      "cell_type": "markdown",
      "metadata": {
        "id": "DFn-Km-6L0Vi"
      },
      "source": [
        "# Discriminator\n",
        "\n",
        "The discriminator takes in input a batch of luminance L channel as 128x128x1 tensor and the chromatic a and b channels as a 128x128x2 tensor. This two inputs are concatenated to form the input image to be classified and then applies a series of downsampling Conv->Batchnorm->ReLU modules so that the receptived field of the last convolution layer which is used for the output, has size 70x70. The discriminator output is 14x14x1 tensor where each entry is classification of a 70x70 portion of the image. Assuming the kernel size is the same in each convolution operation, the receptive field of convolution layer at level $L$ can be calulated with following recursive equation:\n",
        "$$\n",
        "\\begin{aligned}\n",
        " r_0 &= k\\\\\n",
        "r_{i+1} &= s_{i-1}\\cdot r_{i-1} + (k + s_{i-1})\n",
        "\\end{aligned}  \n",
        "$$\n",
        "where $s_{i}$ is the number of stride of the convolution layer at level $i$. So $r_L$ is the receptive field of convolution layer at level L. "
      ]
    },
    {
      "cell_type": "code",
      "metadata": {
        "id": "mwOKFUeRfWM5"
      },
      "source": [
        "\"\"\"\n",
        "Define the architecture of the discriminator.\n",
        "\"\"\"\n",
        "\n",
        "def define_discriminator(input_shape, target_shape):\n",
        "  #initialize the weight with a normal distribution with mean 0 and standard deviation on 0.02.\n",
        "  initializer = tf.random_normal_initializer(0., 0.02)\n",
        "  #define the input that containes the luminance channel.\n",
        "  inp = Input(shape=input_shape, name='input_image')\n",
        "  #define the input that containes the chromatic channels.\n",
        "  tar = Input(shape=target_shape, name='target_image')\n",
        "  #concatenate the inputs\n",
        "  x = Concatenate()([inp, tar])\n",
        "\n",
        "  #downsamples steps.\n",
        "  x = down_sample(x, 64, apply_batchnorm=False)# (bs, 64, 64, 64)\n",
        "  x = down_sample(x, 128) # (bs, 32, 32, 128)\n",
        "  x = down_sample(x, 256) # (bs, 16, 16, 256)\n",
        "\n",
        "  #apply zero padding so that the \n",
        "  x = ZeroPadding2D()(x) #(bs, 18, 18, 256)\n",
        "  x = Conv2D(512, 4, strides=1, kernel_initializer=initializer, use_bias=False)(x)# (bs, 15, 15, 512)\n",
        "\n",
        "  #apply batchnormalization also at inference time.\n",
        "  x = BatchNormalization()(x, training=True)\n",
        "  x = LeakyReLU()(x)\n",
        "  x = ZeroPadding2D()(x)#(bs, 17, 17, 512)\n",
        "\n",
        "  #generate the output.\n",
        "  last = Conv2D(1, 4, strides=1, kernel_initializer=initializer)(x)#(bs, 14, 14, 1)\n",
        "  \n",
        "  #return the model.\n",
        "  return Model(inputs=[inp, tar], outputs=last)"
      ],
      "execution_count": null,
      "outputs": []
    },
    {
      "cell_type": "markdown",
      "metadata": {
        "id": "KmXZgz7mUAJk"
      },
      "source": [
        "# Losses and Optimzer\n",
        "\n",
        "The loss function of the cGAN is a LSGAN which replaces the binary cross entropy in the vanilla GAN loss with the Mean Squared Error. Moreover the generator is asked to minimize the mean absolute error between the target and its output. So The objective of Generator and Discrminator are:\n",
        "$$\n",
        "\\begin{aligned}\n",
        "            L_{cGAN}(D) = &\\mathbb{E}_{x, y}[(D(x, y) - 1)^2] + \\mathbb{E}_{x}[(D(x, G(x)) +1)^2] \\\\\n",
        "            L_{cGAN}(G) = &\\mathbb{E}_{x}[(D(x, G(x)))^2] + \\lambda L_{1}(G)\n",
        "\\end{aligned}  \n",
        "$$\n",
        "where $L_1$ is defined as\n",
        "$$\n",
        "L_{L1}(G) = \\mathbb{E}_{x,y}[||y - G(x)||]\n",
        "$$"
      ]
    },
    {
      "cell_type": "code",
      "metadata": {
        "id": "7AICkxOnfmxo"
      },
      "source": [
        "#use the mean squared error loss for the adversarial loss.\n",
        "loss_object = tf.keras.losses.MeanSquaredError()\n",
        "#define the optimzer for the generator.\n",
        "generator_optimizer = tf.keras.optimizers.Adam(0.0002, beta_1=0.5)\n",
        "#define the optimzer for the discriminator.\n",
        "discriminator_optimizer = tf.keras.optimizers.Adam(0.0002, beta_1=0.5)"
      ],
      "execution_count": null,
      "outputs": []
    },
    {
      "cell_type": "code",
      "metadata": {
        "id": "jQ1TJGZKfMpg"
      },
      "source": [
        "\"\"\"\n",
        "Calculate the loss for the generator.\n",
        "\"\"\"\n",
        "def generator_loss(disc_generated_output, gen_output, target):\n",
        "  #adversarial loss\n",
        "  gan_loss = loss_object(tf.zeros_like(disc_generated_output), disc_generated_output)\n",
        " \n",
        "  # mean absolute error\n",
        "  l1_loss = tf.reduce_mean(tf.abs(target - gen_output))\n",
        "  \n",
        "  #the total loss is the sum of the adversarial loss and L1 distance between the target and generated output.\n",
        "  total_gen_loss = gan_loss + (LAMBDA * l1_loss)\n",
        " \n",
        "  return total_gen_loss, gan_loss, l1_loss"
      ],
      "execution_count": null,
      "outputs": []
    },
    {
      "cell_type": "code",
      "metadata": {
        "id": "3TvqEEmXf1tv"
      },
      "source": [
        "\"\"\"\n",
        "Calculate the loss for the discriminator.\n",
        "\"\"\"\n",
        "def discriminator_loss(disc_real_output, disc_generated_output):\n",
        "  #loss term associated to the real data.\n",
        "  real_loss = loss_object(tf.ones_like(disc_real_output), disc_real_output)\n",
        "  \n",
        "  #loss term  associated to the fake data.\n",
        "  generated_loss = loss_object(tf.ones_like(disc_generated_output)*-1.0, disc_generated_output)\n",
        " \n",
        "  #the total loss is the sum of the loss of the real and fake data.\n",
        "  total_disc_loss = real_loss + generated_losss\n",
        " \n",
        "  return total_disc_loss * 0.5\n"
      ],
      "execution_count": null,
      "outputs": []
    },
    {
      "cell_type": "markdown",
      "metadata": {
        "id": "xBhWK4ERJu0Z"
      },
      "source": [
        "# Generated samples"
      ]
    },
    {
      "cell_type": "code",
      "metadata": {
        "id": "4tXgNh9RP7md"
      },
      "source": [
        "\"\"\"\n",
        "Generate a plot showing the input, the colorization produce by\n",
        "generator and the image for each image in the given dataset.\n",
        "\"\"\"\n",
        "def generate_images(dataset, generator, save_path):\n",
        "  #For each image in the dataset produce the a tuple containg the input, the image itself\n",
        "  #and colorization done by the generator.\n",
        "  def generate(dataset, generator):\n",
        "    #create array for the inputs, the real images and the generated ones.\n",
        "    fake_images = np.empty(shape=(0, IMG_SIZE, IMG_SIZE, 3))\n",
        "    inputs = np.empty(shape=(0, IMG_SIZE, IMG_SIZE, 1))\n",
        "    real_images = np.empty_like(fake_images)\n",
        "    \n",
        "    for Ls, real, _ in dataset:\n",
        "      #predict the chromatic channels from the luminance channel.\n",
        "      fake_ABs = generator.predict(Ls)\n",
        "      #convert the generated image back to the RGB space\n",
        "      fake_RGBs = post_process(Ls, fake_ABs)\n",
        "\n",
        "      fake_images = np.append(fake_images, fake_RGBs, axis=0)\n",
        "      inputs = np.append(inputs, Ls, axis=0)\n",
        "      real_images = np.append(real_images, real, axis=0)\n",
        "\n",
        "    return inputs, real_images, fake_images \n",
        "\n",
        "  #Generate a plot showing the input, the colorization produce by\n",
        "  #generator and the image for each image in the given dataset.\n",
        "  fig =  plt.figure(dpi=300, figsize=(30,30), constrained_layout=False)\n",
        "\n",
        "  inputs, real_images, fake_images = generate(dataset, generator)\n",
        "  num_images = fake_images.shape[0]\n",
        "\n",
        "  grid = ImageGrid(fig, 141,  #\n",
        "                     nrows_ncols=(num_images, 3),\n",
        "                     axes_pad=0.01,\n",
        "                     label_mode=\"1\",\n",
        "                     )\n",
        "\n",
        "  title = ['Input','Real', 'Fake']\n",
        "\n",
        "  for n, (L, real, fake) in enumerate(zip(inputs, real_images, fake_images)):\n",
        "    input = (L[..., 0] + 1.0)/2.0\n",
        "    images = [input , real, fake]\n",
        "\n",
        "    for i in range(3):\n",
        "      ax = grid[n*3 + i]\n",
        "      ax.axis('off')\n",
        "      if n == 0:\n",
        "        ax.set_title(title[i])\n",
        "      if i == 0:\n",
        "        ax.imshow(images[i], cmap='gray', aspect='auto')\n",
        "      else:\n",
        "        ax.imshow(images[i], aspect='auto')\n",
        "      \n",
        "  fig.savefig(save_path, bbox_inches='tight', aspect='auto')"
      ],
      "execution_count": null,
      "outputs": []
    },
    {
      "cell_type": "markdown",
      "metadata": {
        "id": "TzxH87tzT7UH"
      },
      "source": [
        "# Adversarial Training\n",
        "\n",
        "The training procedure follows the standard approach when trainng GANs that is jointly train the discriminator and generator by alternating one step of gradient descent of the discriminator with one of the generator.\n",
        "\n",
        "The following diagram shows one step of gradient step of the generator and discriminator.\n",
        "\n",
        "![Gen_Loss(2).jpg](data:image/jpeg;base64,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)\n",
        "\n",
        "Given an input luminance channel $x$ and the target chromatic channels $y$, a step in the training is defined as:\n",
        "\n",
        "1. Produce generator ouput $G(x)$ given the input $x$;\n",
        "2. Produce the the discriminator output $D(x, y)$ given the input $x$ and target $y$;\n",
        "3. Produce the the discriminator output $D(x, G(x))$ given the input and the output generated by the generator;\n",
        "4. Calcultate the generator and discriminator loss using the output generated in the previuos steps;\n",
        "5. Calculate the gradients with respect to the  generator and the discriminator variables;\n",
        "6. Apply the gradients to the corresponding  optimzer.\n",
        "\n",
        "\n",
        "\n",
        "(Image adapted from:[Pix2Pix tensorflow turorial](https://www.tensorflow.org/tutorials/generative/pix2pix?hl=en))"
      ]
    },
    {
      "cell_type": "code",
      "metadata": {
        "id": "1jrXLaeLj0d_"
      },
      "source": [
        "#define the generator.\n",
        "generator = define_generator([IMG_SIZE, IMG_SIZE, 1], OUTPUT_CHANNELS, int(log2(IMG_SIZE)))\n",
        "#define the discrimnator.\n",
        "discriminator = define_discriminator([IMG_SIZE, IMG_SIZE, 1], [IMG_SIZE, IMG_SIZE, 2])"
      ],
      "execution_count": null,
      "outputs": []
    },
    {
      "cell_type": "code",
      "metadata": {
        "id": "K0eMDXlWf2OL"
      },
      "source": [
        "#Define a summary writer for tensor board in order to monitor the\n",
        "#the losses.\n",
        "import datetime\n",
        "log_dir=\"logs/\"\n",
        " \n",
        "summary_writer = tf.summary.create_file_writer(\n",
        "  log_dir + \"fit/\" + datetime.datetime.now().strftime(\"%Y%m%d-%H%M%S\"))"
      ],
      "execution_count": null,
      "outputs": []
    },
    {
      "cell_type": "code",
      "metadata": {
        "id": "oo5mQ3W8jtId"
      },
      "source": [
        "\"\"\"\n",
        "Make a training step given a batch on inputs and targets.\n",
        "\"\"\"\n",
        "@tf.function\n",
        "def train_step(input, target, epoch):\n",
        "  with tf.GradientTape() as gen_tape, tf.GradientTape() as disc_tape:\n",
        "    #Produce the generator output given the input.\n",
        "    gen_output = generator(input)\n",
        "\n",
        "    #Produce the discriminator output given the input and the target.\n",
        "    disc_real_output = discriminator([input, target])\n",
        "    #Produce the discriminator output given the input and the generator output..\n",
        "    disc_generated_output = discriminator([input, gen_output])\n",
        "\n",
        "    #Calculate the generator loss.\n",
        "    gen_total_loss, gen_gan_loss, l1_loss = generator_loss(disc_generated_output, gen_output, target)\n",
        "    #Calculate the discriminator loss.\n",
        "    disc_loss = discriminator_loss(disc_real_output, disc_generated_output)\n",
        "  \n",
        "  #Calculate the gradients with respect to the generator variables.\n",
        "  generator_gradients = gen_tape.gradient(gen_total_loss,\n",
        "                                          generator.trainable_variables)\n",
        "  #Calculate the gradients with respect to the discriminator variables.\n",
        "  discriminator_gradients = disc_tape.gradient(disc_loss,\n",
        "                                               discriminator.trainable_variables)\n",
        "  \n",
        "  #Apply the gradient to the generator optimizer.\n",
        "  generator_optimizer.apply_gradients(zip(generator_gradients,\n",
        "                                          generator.trainable_variables))\n",
        "  #Apply the gradient to the  discriminatoroptimizer.\n",
        "  discriminator_optimizer.apply_gradients(zip(discriminator_gradients,\n",
        "                                              discriminator.trainable_variables))\n",
        " \n",
        "  #Log the losses in tensor board.\n",
        "  with summary_writer.as_default():\n",
        "    tf.summary.scalar('gen_total_loss', gen_total_loss, step=epoch)\n",
        "    tf.summary.scalar('gen_gan_loss', gen_gan_loss, step=epoch)\n",
        "    tf.summary.scalar('gen_l1_loss', l1_loss, step=epoch)\n",
        "    tf.summary.scalar('disc_loss', disc_loss, step=epoch)"
      ],
      "execution_count": null,
      "outputs": []
    },
    {
      "cell_type": "code",
      "metadata": {
        "id": "5a3FdfZTk7J6"
      },
      "source": [
        "#Define a checkpoint-manager in order to save the model weights during the training so that after the\n",
        "#training the model that yielded the best result can be restored.\n",
        "checkpoints = tf.train.Checkpoint(generator_optimizer=generator_optimizer,\n",
        "                                 discriminator_optimizer=discriminator_optimizer,\n",
        "                                 generator=generator,\n",
        "                                 discriminator=discriminator,\n",
        "                                 current_epoch=tf.Variable(0))\n",
        "manager = tf.train.CheckpointManager(checkpoints, f'{BASE_PATH}/checkpoints', max_to_keep=8)"
      ],
      "execution_count": null,
      "outputs": []
    },
    {
      "cell_type": "markdown",
      "metadata": {
        "id": "KSn-NrPrkCMA"
      },
      "source": [
        "The training loop:\n",
        " \n",
        "* Reads the training dataset in chunk of batch size and for each chunk call do a trainin step;\n",
        "* After every epoch generates a plot with the colorization produced by the generator on the validation set;\n",
        "* Save the model weights after every epoc grater than 10.\n",
        "\n",
        "\n"
      ]
    },
    {
      "cell_type": "code",
      "metadata": {
        "id": "s0FbjAJoj-99"
      },
      "source": [
        "\"\"\"\n",
        "Define the trainin loop.\n",
        "\"\"\"\n",
        "def fit(train_ds, epochs):\n",
        "  #restore the model saved in in the latest chekpoint.\n",
        "  checkpoints.restore(manager.latest_checkpoint)\n",
        "\n",
        "  if manager.latest_checkpoint:\n",
        "    print(\"Restored from {}\".format(manager.latest_checkpoint))\n",
        "  else:\n",
        "    print(\"Initializing from scratch.\")\n",
        "\n",
        "  #retrieve the current epochs.\n",
        "  current_epoch = int(checkpoints.current_epoch)\n",
        "\n",
        "  #define the progress bar layout.\n",
        "  widgets=[\n",
        "    progressbar.Bar(marker='=', left='[', right=']'),\n",
        "    progressbar.widgets.SimpleProgress(),\n",
        "    ' - ', progressbar.Timer(), '',\n",
        "    '-', progressbar.AdaptiveETA(), ''\n",
        "  ]\n",
        "  #retrieve the number of batches.\n",
        "  iters = train_ds.cardinality().numpy()\n",
        "\n",
        "  for epoch in range(current_epoch, epochs):\n",
        "    \n",
        "    print(f'Epoch: {epoch + 1}')\n",
        "    # Train\n",
        "    with progressbar.ProgressBar(max_value=iters, widgets=widgets) as pbar:\n",
        "      for n, (input_image, target, _) in train_ds.enumerate():\n",
        "        #do a training step.\n",
        "        train_step(input_image, target, epoch)\n",
        "        #update the progressabar.\n",
        "        pbar.update(n.numpy())\n",
        "    \n",
        "    #generate a plot with the generator colorization on the validation set.\n",
        "    path = f'{BASE_PATH}/samples/sample_{epoch + 1}.jpg'\n",
        "    generate_images(val_dataset, generator , path);\n",
        "\n",
        "    #increas the current epoch variable in the checkpoint-manager.\n",
        "    checkpoints.current_epoch.assign_add(1)\n",
        "    #save (checkpoint) the model after 10 epochs.\n",
        "    if epoch >= 10:\n",
        "      manager.save()\n",
        "    #clear the output of the cell.\n",
        "    clear_output()"
      ],
      "execution_count": null,
      "outputs": []
    },
    {
      "cell_type": "code",
      "metadata": {
        "id": "ayc7S9hWIIOl"
      },
      "source": [
        "#load the tensor board.\n",
        "%load_ext tensorboard\n",
        "%tensorboard --logdir {log_dir}"
      ],
      "execution_count": null,
      "outputs": []
    },
    {
      "cell_type": "code",
      "metadata": {
        "id": "Ainz9burlNU9"
      },
      "source": [
        "#start training.\n",
        "fit(train_dataset, EPOCHS)"
      ],
      "execution_count": null,
      "outputs": []
    },
    {
      "cell_type": "markdown",
      "metadata": {
        "id": "6oS2kCC5mqLV"
      },
      "source": [
        "After the training restore the weights of the generator that produced the best results and save its architecture and weights so that it can be created on the fly."
      ]
    },
    {
      "cell_type": "code",
      "metadata": {
        "id": "dVMEkgZZhaaJ"
      },
      "source": [
        "BEST_MODEL = 97\n",
        "checkpoints.restore(f'{BASE_PATH}/checkpoints/ckpt-{BEST_MODEL}')\n",
        "generator.save(f'{BASE_PATH}/Best model/', include_optimizer=False)"
      ],
      "execution_count": null,
      "outputs": []
    },
    {
      "cell_type": "markdown",
      "metadata": {
        "id": "7S3GYQrknuVt"
      },
      "source": [
        "# Test\n",
        "\n",
        "Load the model and generate coloriziation of the images in the test set."
      ]
    },
    {
      "cell_type": "code",
      "metadata": {
        "id": "WikiXn0bokEU"
      },
      "source": [
        "#load the generator.\n",
        "generator = tf.keras.models.load_model(f'{BASE_PATH}/Best model/')"
      ],
      "execution_count": null,
      "outputs": []
    },
    {
      "cell_type": "code",
      "metadata": {
        "id": "JJnI8dtVTYWg"
      },
      "source": [
        "#download the test dataset.\n",
        "shutil.copy(f'{BASE_PATH}/Test.zip', \".\")\n",
        "!unzip -q Test.zip\n",
        "!rm Test.zip"
      ],
      "execution_count": null,
      "outputs": []
    },
    {
      "cell_type": "code",
      "metadata": {
        "id": "Wk7SjqZxlbG5"
      },
      "source": [
        "#create the test dataset input pipeline.\n",
        "test_paths = tf.data.Dataset.list_files('/content/Test/*.jpg', shuffle=False)\n",
        "test_dataset = test_paths.map(load_image_test, deterministic=True)\\\n",
        "                          .batch(BATCH_SIZE)\\\n",
        "                          .prefetch(AUTOTUNE)\n",
        "\n",
        "#generate the colorization of the images in the training dataset.\n",
        "for Ls, _, file_paths in test_dataset:\n",
        "\n",
        "  fake_ABs = generator.predict(Ls)\n",
        "\n",
        "  fake_LABs = tf.concat([Ls, fake_ABs], axis=-1)\n",
        "  fake_LABs = denormalise(fake_LABs)\n",
        "  fake_RGBs = convert2rgb(fake_LABs)\n",
        "\n",
        "  for (fake, file_path) in zip(fake_RGBs, file_paths):\n",
        "    fake_img = tf.image.convert_image_dtype(fake, dtype=tf.uint8)\n",
        "    img = tf.image.encode_jpeg(fake_img)\n",
        "\n",
        "    filename = os.path.basename(file_path.numpy())\n",
        "    save_path= f'/content/drive/My Drive/VCS Project/examples/{filename.decode(\"utf-8\")}'\n",
        "    tf.io.write_file(save_path, img)"
      ],
      "execution_count": null,
      "outputs": []
    },
    {
      "cell_type": "code",
      "metadata": {
        "id": "jgzjIkPVj-E-"
      },
      "source": [
        "drive.flush_and_unmount()"
      ],
      "execution_count": null,
      "outputs": []
    }
  ]
}