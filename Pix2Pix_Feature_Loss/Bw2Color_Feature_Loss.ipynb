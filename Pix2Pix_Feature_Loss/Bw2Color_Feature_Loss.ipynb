{
  "nbformat": 4,
  "nbformat_minor": 0,
  "metadata": {
    "accelerator": "GPU",
    "colab": {
      "name": "Bw2Color_Feature_Loss.ipynb",
      "provenance": [],
      "collapsed_sections": [
        "kHiFF-bs-rLZ",
        "_0HBzw8aGTbx",
        "80Vx0Id11cAH",
        "PKcU5uKv1cAP",
        "T2KSN6z0JwLb",
        "tGpWRqs5HfMo",
        "DFn-Km-6L0Vi",
        "xBhWK4ERJu0Z",
        "2hN-iJCuKFJy",
        "P-bMu6MkP6Yf"
      ]
    },
    "kernelspec": {
      "display_name": "Python 3",
      "name": "python3"
    }
  },
  "cells": [
    {
      "cell_type": "markdown",
      "metadata": {
        "id": "BkuWdN11zYmA"
      },
      "source": [
        "# Prerequisites"
      ]
    },
    {
      "cell_type": "code",
      "metadata": {
        "id": "Bw45vVGFdFdp"
      },
      "source": [
        "!pip install -q -U progressbar2"
      ],
      "execution_count": 1,
      "outputs": []
    },
    {
      "cell_type": "code",
      "metadata": {
        "id": "ceXOdXEIcqrt"
      },
      "source": [
        "import tensorflow as tf\n",
        "from tensorflow.keras.layers import *\n",
        "from tensorflow.keras import  Model\n",
        "import os\n",
        "from math import log2\n",
        "import time\n",
        "import matplotlib\n",
        "from matplotlib import pyplot as plt\n",
        "from matplotlib import gridspec\n",
        "from mpl_toolkits.axes_grid1 import ImageGrid\n",
        "import numpy as np\n",
        "from IPython.display import clear_output\n",
        "import shutil\n",
        "import progressbar\n",
        "\n",
        "matplotlib.use('Agg')\n",
        "plt.ioff()"
      ],
      "execution_count": 6,
      "outputs": []
    },
    {
      "cell_type": "code",
      "metadata": {
        "id": "dCZitzQQzlu1"
      },
      "source": [
        "#buffer size of the input pipeline\n",
        "BUFFER_SIZE = 50000\n",
        "#batch size\n",
        "BATCH_SIZE= 16\n",
        "#number of epochs\n",
        "EPOCHS = 30\n",
        "#number of epochs when the pre training.\n",
        "PRETRAIN_EPOCHS = 50\n",
        "#image size\n",
        "IMG_SIZE = 128\n",
        "#number of output channel(in this case 2)\n",
        "OUTPUT_CHANNELS = 2\n",
        "#lambda value of the generator function\n",
        "LAMBDA = 0.005\n",
        "#folder containing the datasets.\n",
        "BASE_PATH = '/content/drive/My Drive/Bw2Color'"
      ],
      "execution_count": 7,
      "outputs": []
    },
    {
      "cell_type": "markdown",
      "metadata": {
        "id": "toX58bLj-eNP"
      },
      "source": [
        "Download the training/val dataset from the google drive"
      ]
    },
    {
      "cell_type": "code",
      "metadata": {
        "id": "47MZB9LMvgLQ"
      },
      "source": [
        "#mount the drive.\n",
        "from google.colab import drive\n",
        "drive.mount('/content/drive/')"
      ],
      "execution_count": null,
      "outputs": []
    },
    {
      "cell_type": "code",
      "metadata": {
        "id": "fjIXznY5eIHy"
      },
      "source": [
        "#download the the training set.\n",
        "shutil.copy(f'{BASE_PATH}/Train.zip', \".\")\n",
        "!unzip -q Train.zip\n",
        "!rm Train.zip"
      ],
      "execution_count": 6,
      "outputs": []
    },
    {
      "cell_type": "code",
      "metadata": {
        "id": "0i5rEK-grh7U"
      },
      "source": [
        "#download the the validation set.\n",
        "shutil.copy(f'{BASE_PATH}/Val.zip', \".\")\n",
        "!unzip -q Val.zip\n",
        "!rm Val.zip"
      ],
      "execution_count": 7,
      "outputs": []
    },
    {
      "cell_type": "markdown",
      "metadata": {
        "id": "kHiFF-bs-rLZ"
      },
      "source": [
        "# Data preprocessing\n",
        "\n",
        "Here we define the necessary functions for the online preprocessing steps."
      ]
    },
    {
      "cell_type": "code",
      "metadata": {
        "id": "G6MT9V9mAD5l"
      },
      "source": [
        "\"\"\"\n",
        "Convert a bath of images from the RGB space to LAB space\n",
        "(Code adapted from:https://github.com/xahidbuffon/TF_RGB_LAB/blob/master/rgb_lab_formulation.py).\n",
        "\"\"\"\n",
        "def convert2lab(img):\n",
        "  srgb_pixels = tf.reshape(img, [-1, 3])\n",
        "  \n",
        "  linear_mask = tf.cast(srgb_pixels <= 0.04045, dtype=tf.float32)\n",
        "  exponential_mask = tf.cast(srgb_pixels > 0.04045, dtype=tf.float32)\n",
        "  rgb_pixels = (srgb_pixels / 12.92 * linear_mask) + (((srgb_pixels + 0.055) / 1.055) ** 2.4) * exponential_mask\n",
        "  rgb_to_xyz = tf.constant([\n",
        "      #    X        Y          Z\n",
        "      [0.412453, 0.212671, 0.019334], # R\n",
        "      [0.357580, 0.715160, 0.119193], # G\n",
        "      [0.180423, 0.072169, 0.950227], # B\n",
        "  ])\n",
        "  xyz_pixels = tf.matmul(rgb_pixels, rgb_to_xyz)\n",
        " \n",
        "# https://en.wikipedia.org/wiki/Lab_color_space#CIELAB-CIEXYZ_conversions\n",
        "  xyz_normalized_pixels = tf.multiply(xyz_pixels, [1/0.950456, 1.0, 1/1.088754])\n",
        " \n",
        "  epsilon = 6/29\n",
        "  linear_mask = tf.cast(xyz_normalized_pixels <= (epsilon**3), dtype=tf.float32)\n",
        "  exponential_mask = tf.cast(xyz_normalized_pixels > (epsilon**3), dtype=tf.float32)\n",
        "  fxfyfz_pixels = (xyz_normalized_pixels / (3 * epsilon**2) + 4/29) * linear_mask + (xyz_normalized_pixels ** (1/3)) * exponential_mask\n",
        " \n",
        "  # convert to lab\n",
        "  fxfyfz_to_lab = tf.constant([\n",
        "      #  l       a       b\n",
        "      [  0.0,  500.0,    0.0], # fx\n",
        "      [116.0, -500.0,  200.0], # fy\n",
        "      [  0.0,    0.0, -200.0], # fz\n",
        "  ])\n",
        "  lab_pixels = tf.matmul(fxfyfz_pixels, fxfyfz_to_lab) + tf.constant([-16.0, 0.0, 0.0])\n",
        " \n",
        "  return tf.reshape(lab_pixels, tf.shape(img))\n",
        "\n",
        "\"\"\"\n",
        "Convert a bath of images from the LAB space to  space\n",
        "(Code adapted from:https://github.com/xahidbuffon/TF_RGB_LAB/blob/master/rgb_lab_formulation.py).\n",
        "\"\"\"\n",
        "\n",
        "def convert2rgb(lab):\n",
        "  lab_pixels = tf.reshape(lab, [-1, 3])\n",
        "# https://en.wikipedia.org/wiki/Lab_color_space#CIELAB-CIEXYZ_conversions\n",
        "  # convert to fxfyfz\n",
        "  lab_to_fxfyfz = tf.constant([\n",
        "      #   fx      fy        fz\n",
        "      [1/116.0, 1/116.0,  1/116.0], # l\n",
        "      [1/500.0,     0.0,      0.0], # a\n",
        "      [    0.0,     0.0, -1/200.0], # b\n",
        "  ])\n",
        "  fxfyfz_pixels = tf.matmul(lab_pixels + tf.constant([16.0, 0.0, 0.0]), lab_to_fxfyfz)\n",
        "\n",
        "  # convert to xyz\n",
        "  epsilon = 6/29\n",
        "  linear_mask = tf.cast(fxfyfz_pixels <= epsilon, dtype=tf.float32)\n",
        "  exponential_mask = tf.cast(fxfyfz_pixels > epsilon, dtype=tf.float32)\n",
        "  xyz_pixels = (3 * epsilon**2 * (fxfyfz_pixels - 4/29)) * linear_mask + (fxfyfz_pixels ** 3) * exponential_mask\n",
        "\n",
        "    # denormalize for D65 white point\n",
        "  xyz_pixels = tf.multiply(xyz_pixels, [0.950456, 1.0, 1.088754])\n",
        "\n",
        "      \n",
        "  xyz_to_rgb = tf.constant([\n",
        "      #     r           g          b\n",
        "      [ 3.2404542, -0.9692660,  0.0556434], # x\n",
        "      [-1.5371385,  1.8760108, -0.2040259], # y\n",
        "      [-0.4985314,  0.0415560,  1.0572252], # z\n",
        "  ])\n",
        "  rgb_pixels = tf.matmul(xyz_pixels, xyz_to_rgb)\n",
        "  # avoid a slightly negative number messing up the conversion\n",
        "  rgb_pixels = tf.clip_by_value(rgb_pixels, 0.0, 1.0)\n",
        "  linear_mask = tf.cast(rgb_pixels <= 0.0031308, dtype=tf.float32)\n",
        "  exponential_mask = tf.cast(rgb_pixels > 0.0031308, dtype=tf.float32)\n",
        "  srgb_pixels = (rgb_pixels * 12.92 * linear_mask) + ((rgb_pixels ** (1/2.4) * 1.055) - 0.055) * exponential_mask\n",
        "\n",
        "  return tf.reshape(srgb_pixels, tf.shape(lab))\n"
      ],
      "execution_count": 8,
      "outputs": []
    },
    {
      "cell_type": "code",
      "metadata": {
        "id": "5CCvtu3v0rdg"
      },
      "source": [
        "\"\"\"\n",
        "Resize an image so that the shortest side is of the given size while maintaing the\n",
        "aspect-ration.\n",
        "\"\"\"\n",
        "def resize_with_ratio(img, size):\n",
        "  #retrieve the size of the image.\n",
        "  w, h = tf.shape(img)[0], tf.shape(img)[1]\n",
        " \n",
        "  #calculate the new size.\n",
        "  new_height = h * size // tf.minimum(w, h)\n",
        "  new_width = w * size // tf.minimum(w, h)\n",
        "  \n",
        "  #reize the image.\n",
        "  img = tf.image.resize(img, [new_width, new_height], method=tf.image.ResizeMethod.NEAREST_NEIGHBOR)\n",
        "  return img\n",
        " \n",
        "\n",
        "\"\"\"\n",
        "Extract a square patch of the given size from the center of the image.\n",
        "\"\"\"\n",
        "def center_crop(img, size):\n",
        "  #retrieve the size of the image.\n",
        "  w, h = tf.shape(img)[0], tf.shape(img)[1]\n",
        "\n",
        "  #calculate the left-uppermost coordinates of the pacth being extraxted.\n",
        "  x = (w - IMG_SIZE)//2\n",
        "  y = (h - IMG_SIZE)//2\n",
        "\n",
        "  #crop the central patch.\n",
        "  img = tf.image.crop_to_bounding_box(img, x, y, IMG_SIZE, IMG_SIZE)\n",
        "  return img\n",
        " \n",
        "\"\"\"\n",
        "Normalize a batch images in lab space so that each pixel is in the range [-1, 1].\n",
        "\"\"\"\n",
        "def normalise(lab_imgs):\n",
        "  #reshape the batch of images to (batch*height*width, num_channel)..\n",
        "  imgs = tf.reshape(lab_imgs, [-1, 3])\n",
        "  #nomarmalise the values.\n",
        "  normalised = (imgs / [50.0, 110.0, 110.0] ) - [1.0, 0.0, 0.0]\n",
        "  #reshape the array to the original shape.\n",
        "  return tf.reshape(normalised, tf.shape(lab_imgs))\n",
        "\n",
        "\"\"\"\n",
        "Denormalise values of a batch of images in lab space to the original range.\n",
        "\"\"\"\n",
        "def denormalise(lab_imgs):\n",
        "  #reshape the batch of images to (batch*height*width, num_channel).\n",
        "  imgs = tf.reshape(lab_imgs, [-1, 3])\n",
        "  #nomarmalise the values.\n",
        "  unormalised = (imgs + [1.0, 0.0, 0.0]) * [50.0, 110.0, 110.0]\n",
        "  #reshape the array to the original shape.\n",
        "  return tf.reshape(unormalised, tf.shape(lab_imgs))\n",
        "\n",
        "\"\"\"\n",
        "Randomly flip the image on the vertical axis.\n",
        "\"\"\"\n",
        "def data_augmentation(img):\n",
        "  img = tf.image.random_flip_left_right(img)\n",
        "  return img\n",
        "\n",
        "\"\"\"\n",
        "Recontruct the RGB image given the L-channel and AB-channels.\n",
        "Values are in the range [0, 1] if the rescale is Fasle, otherwise they are\n",
        "rescaled to the range [0, 255].\n",
        "\"\"\"\n",
        "def post_process(L, AB, rescale=False):\n",
        "  #concatenate the L and AB channels.\n",
        "  image_lab = tf.concat([L, AB], axis=-1)\n",
        "  #denormalise the values.\n",
        "  image_lab = denormalise(image_lab)\n",
        "  #convert the image back to the rgb space.\n",
        "  img_rgb = convert2rgb(image_lab)\n",
        "  #rescale the values to the range [0, 255] if required.\n",
        "  if rescale:\n",
        "    img_rgb = img_rgb*255.0\n",
        "\n",
        "  return img_rgb"
      ],
      "execution_count": 9,
      "outputs": []
    },
    {
      "cell_type": "markdown",
      "metadata": {
        "id": "_0HBzw8aGTbx"
      },
      "source": [
        "# Input pipeline\n",
        "\n",
        "Here we create the input pipeline for the trainig dataset and validation dataset which will be used to generated images during the training process in order to assess the performance of the generator. "
      ]
    },
    {
      "cell_type": "code",
      "metadata": {
        "id": "E7bFPeMV0rdh"
      },
      "source": [
        "\"\"\"\n",
        "Load the image.\n",
        "\"\"\"\n",
        "def load(image_path):\n",
        "  #read the content of the file.\n",
        "  img = tf.io.read_file(image_path)\n",
        "  #decode the content of the file as jpeg image.\n",
        "  img = tf.image.decode_jpeg(img, channels=3)\n",
        "  #scale the values so that the fall in the range [0, 1].\n",
        "  img = tf.cast(img, dtype=tf.float32)/255.0\n",
        "  return img\n",
        " \n",
        "\"\"\"\n",
        "Load an image and apply the preprocess step.\n",
        "Return a tuple made of the luminance channel L, the chromatic channels AB\n",
        "and the path of the image.\n",
        "\"\"\"\n",
        "def load_image_train(file_path):\n",
        "  #load the image.\n",
        "  img = load(file_path)\n",
        "  #apply data augmentation\n",
        "  img = tf.image.random_flip_left_right(img)\n",
        "  #convert to lab space.\n",
        "  lab_img = convert2lab(img)\n",
        "  #normalise the values.\n",
        "  lab_img = normalise(lab_img)\n",
        "  #extract the luminance channel.\n",
        "  L = lab_img[:,:,0][..., tf.newaxis]\n",
        "  #extract the chromatic channels\n",
        "  AB = tf.stack([lab_img[:,:,1], lab_img[:,:,2]], axis=-1)\n",
        "\n",
        "  return L, AB, file_path\n",
        " \n",
        "\"\"\"\n",
        "Load an image and apply the preprocess step without the data augmentation.\n",
        "Return a tuple made of the luminance channel L and the path of the image.\n",
        " \"\"\"\n",
        "\n",
        "#load an image and cretes the couple (L, RGB)\n",
        "def load_image_test(file_path):\n",
        "  #load image as RGB.\n",
        "  img = load(file_path)\n",
        "  #Convert the image to LAB Space.\n",
        "  lab_img = convert2lab(img)\n",
        "  #Nomalise the values so that they are in the range [-1, -1]\n",
        "  lab_img = normalise(lab_img)\n",
        "  #Extract the L channel.\n",
        "  L = lab_img[:,:,0][..., tf.newaxis]\n",
        "  return L, img, file_path\n",
        "\n",
        "AUTOTUNE = tf.data.experimental.AUTOTUNE\n",
        "\n",
        "#create the training dataset pipeline.\n",
        "train_dataset = tf.data.Dataset.list_files('/content/Train/*.jpg')\n",
        "                                              \n",
        "train_dataset = train_dataset.shuffle(BUFFER_SIZE)\\\n",
        "                            .map(load_image_train, num_parallel_calls=AUTOTUNE)\\\n",
        "                            .batch(BATCH_SIZE)\\\n",
        "                            .prefetch(AUTOTUNE)\n",
        "\n",
        "#create the validation dataset pipeline.\n",
        "val_dataset = tf.data.Dataset.list_files('/content/Val/*.jpg', shuffle=False)\n",
        "                                              \n",
        "val_dataset = val_dataset.map(load_image_test)\\\n",
        "                          .batch(BATCH_SIZE)\\\n",
        "                          .prefetch(AUTOTUNE)"
      ],
      "execution_count": 10,
      "outputs": []
    },
    {
      "cell_type": "markdown",
      "metadata": {
        "id": "80Vx0Id11cAH"
      },
      "source": [
        "# Data preprocessing\n",
        "\n",
        "Here we define the necessary functions for the online preprocessing steps."
      ]
    },
    {
      "cell_type": "code",
      "metadata": {
        "id": "ZsFAHPyT1cAK"
      },
      "source": [
        "\"\"\"\n",
        "Convert a bath of images from the RGB space to LAB space\n",
        "(Code adapted from:https://github.com/xahidbuffon/TF_RGB_LAB/blob/master/rgb_lab_formulation.py).\n",
        "\"\"\"\n",
        "def convert2lab(img):\n",
        "  srgb_pixels = tf.reshape(img, [-1, 3])\n",
        "  \n",
        "  linear_mask = tf.cast(srgb_pixels <= 0.04045, dtype=tf.float32)\n",
        "  exponential_mask = tf.cast(srgb_pixels > 0.04045, dtype=tf.float32)\n",
        "  rgb_pixels = (srgb_pixels / 12.92 * linear_mask) + (((srgb_pixels + 0.055) / 1.055) ** 2.4) * exponential_mask\n",
        "  rgb_to_xyz = tf.constant([\n",
        "      #    X        Y          Z\n",
        "      [0.412453, 0.212671, 0.019334], # R\n",
        "      [0.357580, 0.715160, 0.119193], # G\n",
        "      [0.180423, 0.072169, 0.950227], # B\n",
        "  ])\n",
        "  xyz_pixels = tf.matmul(rgb_pixels, rgb_to_xyz)\n",
        " \n",
        "# https://en.wikipedia.org/wiki/Lab_color_space#CIELAB-CIEXYZ_conversions\n",
        "  xyz_normalized_pixels = tf.multiply(xyz_pixels, [1/0.950456, 1.0, 1/1.088754])\n",
        " \n",
        "  epsilon = 6/29\n",
        "  linear_mask = tf.cast(xyz_normalized_pixels <= (epsilon**3), dtype=tf.float32)\n",
        "  exponential_mask = tf.cast(xyz_normalized_pixels > (epsilon**3), dtype=tf.float32)\n",
        "  fxfyfz_pixels = (xyz_normalized_pixels / (3 * epsilon**2) + 4/29) * linear_mask + (xyz_normalized_pixels ** (1/3)) * exponential_mask\n",
        " \n",
        "  # convert to lab\n",
        "  fxfyfz_to_lab = tf.constant([\n",
        "      #  l       a       b\n",
        "      [  0.0,  500.0,    0.0], # fx\n",
        "      [116.0, -500.0,  200.0], # fy\n",
        "      [  0.0,    0.0, -200.0], # fz\n",
        "  ])\n",
        "  lab_pixels = tf.matmul(fxfyfz_pixels, fxfyfz_to_lab) + tf.constant([-16.0, 0.0, 0.0])\n",
        " \n",
        "  return tf.reshape(lab_pixels, tf.shape(img))\n",
        "\n",
        "\"\"\"\n",
        "Convert a bath of images from the LAB space to  space\n",
        "(Code adapted from:https://github.com/xahidbuffon/TF_RGB_LAB/blob/master/rgb_lab_formulation.py).\n",
        "\"\"\"\n",
        "\n",
        "def convert2rgb(lab):\n",
        "  lab_pixels = tf.reshape(lab, [-1, 3])\n",
        "# https://en.wikipedia.org/wiki/Lab_color_space#CIELAB-CIEXYZ_conversions\n",
        "  # convert to fxfyfz\n",
        "  lab_to_fxfyfz = tf.constant([\n",
        "      #   fx      fy        fz\n",
        "      [1/116.0, 1/116.0,  1/116.0], # l\n",
        "      [1/500.0,     0.0,      0.0], # a\n",
        "      [    0.0,     0.0, -1/200.0], # b\n",
        "  ])\n",
        "  fxfyfz_pixels = tf.matmul(lab_pixels + tf.constant([16.0, 0.0, 0.0]), lab_to_fxfyfz)\n",
        "\n",
        "  # convert to xyz\n",
        "  epsilon = 6/29\n",
        "  linear_mask = tf.cast(fxfyfz_pixels <= epsilon, dtype=tf.float32)\n",
        "  exponential_mask = tf.cast(fxfyfz_pixels > epsilon, dtype=tf.float32)\n",
        "  xyz_pixels = (3 * epsilon**2 * (fxfyfz_pixels - 4/29)) * linear_mask + (fxfyfz_pixels ** 3) * exponential_mask\n",
        "\n",
        "    # denormalize for D65 white point\n",
        "  xyz_pixels = tf.multiply(xyz_pixels, [0.950456, 1.0, 1.088754])\n",
        "\n",
        "      \n",
        "  xyz_to_rgb = tf.constant([\n",
        "      #     r           g          b\n",
        "      [ 3.2404542, -0.9692660,  0.0556434], # x\n",
        "      [-1.5371385,  1.8760108, -0.2040259], # y\n",
        "      [-0.4985314,  0.0415560,  1.0572252], # z\n",
        "  ])\n",
        "  rgb_pixels = tf.matmul(xyz_pixels, xyz_to_rgb)\n",
        "  # avoid a slightly negative number messing up the conversion\n",
        "  rgb_pixels = tf.clip_by_value(rgb_pixels, 0.0, 1.0)\n",
        "  linear_mask = tf.cast(rgb_pixels <= 0.0031308, dtype=tf.float32)\n",
        "  exponential_mask = tf.cast(rgb_pixels > 0.0031308, dtype=tf.float32)\n",
        "  srgb_pixels = (rgb_pixels * 12.92 * linear_mask) + ((rgb_pixels ** (1/2.4) * 1.055) - 0.055) * exponential_mask\n",
        "\n",
        "  return tf.reshape(srgb_pixels, tf.shape(lab))\n"
      ],
      "execution_count": 11,
      "outputs": []
    },
    {
      "cell_type": "code",
      "metadata": {
        "id": "g1Iy5SyOdXTx"
      },
      "source": [
        "\"\"\"\n",
        "Resize an image so that the shortest side is of the given size while maintaing the\n",
        "aspect-ration.\n",
        "\"\"\"\n",
        "def resize_with_ratio(img, size):\n",
        "  #retrieve the size of the image.\n",
        "  w, h = tf.shape(img)[0], tf.shape(img)[1]\n",
        " \n",
        "  #calculate the new size.\n",
        "  new_height = h * size // tf.minimum(w, h)\n",
        "  new_width = w * size // tf.minimum(w, h)\n",
        "  \n",
        "  #reize the image.\n",
        "  img = tf.image.resize(img, [new_width, new_height], method=tf.image.ResizeMethod.NEAREST_NEIGHBOR)\n",
        "  return img\n",
        " \n",
        "\n",
        "\"\"\"\n",
        "Extract a square patch of the given size from the center of the image.\n",
        "\"\"\"\n",
        "def center_crop(img, size):\n",
        "  #retrieve the size of the image.\n",
        "  w, h = tf.shape(img)[0], tf.shape(img)[1]\n",
        "\n",
        "  #calculate the left-uppermost coordinates of the pacth being extraxted.\n",
        "  x = (w - IMG_SIZE)//2\n",
        "  y = (h - IMG_SIZE)//2\n",
        "\n",
        "  #crop the central patch.\n",
        "  img = tf.image.crop_to_bounding_box(img, x, y, IMG_SIZE, IMG_SIZE)\n",
        "  return img\n",
        " \n",
        "\"\"\"\n",
        "Normalize a batch images in lab space so that each pixel is in the range [-1, 1].\n",
        "\"\"\"\n",
        "def normalise(lab_imgs):\n",
        "  #reshape the batch of images to (batch*height*width, num_channel)..\n",
        "  imgs = tf.reshape(lab_imgs, [-1, 3])\n",
        "  #nomarmalise the values.\n",
        "  normalised = (imgs / [50.0, 110.0, 110.0] ) - [1.0, 0.0, 0.0]\n",
        "  #reshape the array to the original shape.\n",
        "  return tf.reshape(normalised, tf.shape(lab_imgs))\n",
        "\n",
        "\"\"\"\n",
        "Denormalise values of a batch of images in lab space to the original range.\n",
        "\"\"\"\n",
        "def denormalise(lab_imgs):\n",
        "  #reshape the batch of images to (batch*height*width, num_channel).\n",
        "  imgs = tf.reshape(lab_imgs, [-1, 3])\n",
        "  #nomarmalise the values.\n",
        "  unormalised = (imgs + [1.0, 0.0, 0.0]) * [50.0, 110.0, 110.0]\n",
        "  #reshape the array to the original shape.\n",
        "  return tf.reshape(unormalised, tf.shape(lab_imgs))\n",
        "\n",
        "\"\"\"\n",
        "Randomly flip the image on the vertical axis.\n",
        "\"\"\"\n",
        "def data_augmentation(img):\n",
        "  img = tf.image.random_flip_left_right(img)\n",
        "  return img\n",
        "\n",
        "\"\"\"\n",
        "Recontruct the RGB image given the L-channel and AB-channels.\n",
        "Values are in the range [0, 1] if the rescale is Fasle, otherwise they are\n",
        "rescaled to the range [0, 255].\n",
        "\"\"\"\n",
        "def post_process(L, AB, rescale=False):\n",
        "  #concatenate the L and AB channels.\n",
        "  image_lab = tf.concat([L, AB], axis=-1)\n",
        "  #denormalise the values.\n",
        "  image_lab = denormalise(image_lab)\n",
        "  #convert the image back to the rgb space.\n",
        "  img_rgb = convert2rgb(image_lab)\n",
        "  #rescale the values to the range [0, 255] if required.\n",
        "  if rescale:\n",
        "    img_rgb = img_rgb*255.0\n",
        "\n",
        "  return img_rgb"
      ],
      "execution_count": 12,
      "outputs": []
    },
    {
      "cell_type": "markdown",
      "metadata": {
        "id": "PKcU5uKv1cAP"
      },
      "source": [
        "# Input pipeline\n",
        "\n",
        "Here we create the input pipeline for the trainig dataset and validation dataset which will be used to generated images during the training process in order to assess the performance of the generator. "
      ]
    },
    {
      "cell_type": "code",
      "metadata": {
        "id": "aqKJzF-5dp_S"
      },
      "source": [
        "\"\"\"\n",
        "Load the image.\n",
        "\"\"\"\n",
        "def load(image_path):\n",
        "  #read the content of the file.\n",
        "  img = tf.io.read_file(image_path)\n",
        "  #decode the content of the file as jpeg image.\n",
        "  img = tf.image.decode_jpeg(img, channels=3)\n",
        "  #scale the values so that the fall in the range [0, 1].\n",
        "  img = tf.cast(img, dtype=tf.float32)/255.0\n",
        "  return img\n",
        " \n",
        "\"\"\"\n",
        "Load an image and apply the preprocess step.\n",
        "Return a tuple made of the luminance channel L, the chromatic channels AB\n",
        "and the path of the image.\n",
        "\"\"\"\n",
        "def load_image_train(file_path):\n",
        "  #load the image.\n",
        "  img = load(file_path)\n",
        "  #apply data augmentation\n",
        "  img = tf.image.random_flip_left_right(img)\n",
        "  #convert to lab space.\n",
        "  lab_img = convert2lab(img)\n",
        "  #normalise the values.\n",
        "  lab_img = normalise(lab_img)\n",
        "  #extract the luminance channel.\n",
        "  L = lab_img[:,:,0][..., tf.newaxis]\n",
        "  #extract the chromatic channels\n",
        "  AB = tf.stack([lab_img[:,:,1], lab_img[:,:,2]], axis=-1)\n",
        "\n",
        "  return L, AB, file_path\n",
        " \n",
        "\"\"\"\n",
        "Load an image and apply the preprocess step without the data augmentation.\n",
        "Return a tuple made of the luminance channel L and the path of the image.\n",
        " \"\"\"\n",
        "\n",
        "#load an image and cretes the couple (L, RGB)\n",
        "def load_image_test(file_path):\n",
        "  #load image as RGB.\n",
        "  img = load(file_path)\n",
        "  #Convert the image to LAB Space.\n",
        "  lab_img = convert2lab(img)\n",
        "  #Nomalise the values so that they are in the range [-1, -1]\n",
        "  lab_img = normalise(lab_img)\n",
        "  #Extract the L channel.\n",
        "  L = lab_img[:,:,0][..., tf.newaxis]\n",
        "  return L, img, file_path\n",
        "\n",
        "AUTOTUNE = tf.data.experimental.AUTOTUNE\n",
        "\n",
        "#create the training dataset pipeline.\n",
        "train_dataset = tf.data.Dataset.list_files('/content/Train/*.jpg')\n",
        "                                              \n",
        "train_dataset = train_dataset.shuffle(BUFFER_SIZE)\\\n",
        "                            .map(load_image_train, num_parallel_calls=AUTOTUNE)\\\n",
        "                            .batch(BATCH_SIZE)\\\n",
        "                            .prefetch(AUTOTUNE)\n",
        "\n",
        "#create the validation dataset pipeline.\n",
        "val_dataset = tf.data.Dataset.list_files('/content/Val/*.jpg', shuffle=False)\n",
        "                                              \n",
        "val_dataset = val_dataset.map(load_image_test)\\\n",
        "                          .batch(BATCH_SIZE)\\\n",
        "                          .prefetch(AUTOTUNE)"
      ],
      "execution_count": 13,
      "outputs": []
    },
    {
      "cell_type": "markdown",
      "metadata": {
        "id": "T2KSN6z0JwLb"
      },
      "source": [
        "# Building blocks\n",
        "\n",
        "Here we create the building blocks that is the _Conv-BatchNorm-ReLu_ and _ResizeConv-BatchNorm-Dropout-ReLu_ modulues that compose the encoder and decoder of the generator. Each _Conv_ layer in the encoder downsample the input by a factor of two by using a 4x4 kernel, stride 2 and 'same' padding. The _ResizeConv_ layer first upsample the input by a factor of two using a simple resize operation and then apply a convolution operation parameterized by  3x3 kernel, stride 1 and 'valid' padding."
      ]
    },
    {
      "cell_type": "code",
      "metadata": {
        "id": "LSWx0icvTENL"
      },
      "source": [
        "\"\"\"\n",
        "Implement the resize-convolution layer. Take as parameters:\n",
        "- the number of filters;\n",
        "- the kernel size and stride value of the convolution operation;\n",
        "- the upsampling factor(default 2);\n",
        "- A flag that specify if the bias are needed in the convolution layer.\n",
        "\"\"\"\n",
        "class Resize_Conv2D(Layer):\n",
        "  def __init__(self, filters, kernel, stride, use_bias=False, upsampling_factor=2):\n",
        "        self.filters = filters\n",
        "        self.kernel = kernel\n",
        "        self.stride = stride\n",
        "        self.use_bias = use_bias\n",
        "        self.upsampling_factor = upsampling_factor\n",
        "        \n",
        "        super(Resize_Conv2D, self).__init__()\n",
        "\n",
        "  def build(self, input_shape):\n",
        "    #initialize the weights of the convolution layer using a normal ditribution with mean 0 and\n",
        "    #standard deviation 0.02.\n",
        "    initializer = tf.random_normal_initializer(0., 0.02)\n",
        "    #the size of the padding applied to the input.\n",
        "    pad = self.kernel // 2\n",
        "    self.paddings = tf.constant([[0, 0], [pad, pad],[pad, pad], [0, 0]])\n",
        "    #the convolution layer\n",
        "    self.conv2d = Conv2D(self.filters, self.kernel, self.stride, use_bias=self.use_bias,\n",
        "                         padding='valid', kernel_initializer=initializer)\n",
        "  def call(self, inputs):\n",
        "      #calculate the new size of the input.\n",
        "      new_h = inputs.shape[1] * self.upsampling_factor\n",
        "      new_w = inputs.shape[2] * self.upsampling_factor\n",
        "      #resize the input.\n",
        "      x = tf.image.resize(inputs, [new_h, new_w], method=tf.image.ResizeMethod.NEAREST_NEIGHBOR)\n",
        "      #apply padding the avoid artifacts at the border.\n",
        "      x = tf.pad(x, self.paddings, mode='REFLECT')\n",
        "      #apply the convolution layer.\n",
        "      x = self.conv2d(x)\n",
        "      return x "
      ],
      "execution_count": 14,
      "outputs": []
    },
    {
      "cell_type": "code",
      "metadata": {
        "id": "eqjWABii_OSl"
      },
      "source": [
        "\"\"\"\n",
        "Define the Conv-BatchNorm-ReLu block for the encoder part of the generator.\n",
        "\"\"\"\n",
        "def down_sample(input, filters, apply_batchnorm=True):\n",
        "  #initialize the weight with a normal distribution with mean 0 and standard deviation on 0.02.\n",
        "  initializer = tf.random_normal_initializer(0., 0.02)\n",
        "\n",
        "  #apply the convultion layer.\n",
        "  x = Conv2D(filters, 4, strides=2, padding='same', kernel_initializer=initializer, use_bias=False)(input)\n",
        "  #apply the batch normalization layer if required.\n",
        "  if apply_batchnorm:\n",
        "    x = BatchNormalization()(x,training=True)\n",
        "  #apply the leaky relu activation function.\n",
        "  x = LeakyReLU(alpha=0.2)(x)\n",
        "\n",
        "  return x\n",
        "\n",
        "\"\"\"\n",
        "Define the ResizeConv-BatchNorm-Droput-ReLu block for the decoder part of the generator.\n",
        "\"\"\"\n",
        "def up_sample(input, skip, filters, apply_dropout=False):\n",
        "  #initialize the weight with a normal distribution with mean 0 and standard deviation on 0.02.\n",
        "  initializer = tf.random_normal_initializer(0., 0.02)\n",
        "\n",
        "  #apply the resize-conv layer.\n",
        "  x = Resize_Conv2D(filters, 3, 1)(input)\n",
        "  #apply the batch normalization layer.\n",
        "  x = BatchNormalization()(x,training=True)\n",
        "  #apply the dropout layer if required.\n",
        "  if apply_dropout:\n",
        "    x = Dropout(0.5)(x, training=True)\n",
        "  #apply the ReLu activation function.\n",
        "  x = ReLU()(x)\n",
        "  #concatenate the activations if i and n-i layers.\n",
        "  x = Concatenate()([x, skip])\n",
        "\n",
        "  return x"
      ],
      "execution_count": 15,
      "outputs": []
    },
    {
      "cell_type": "markdown",
      "metadata": {
        "id": "tGpWRqs5HfMo"
      },
      "source": [
        "# Generator\n",
        "\n",
        "The Generator has encoder-decoder architecture with skip connection between the _i_-th layer and _n-i_-th layer of the model. Each block of the encoder has the from of _Conv->Batchnorm->ReLU_ and while the decoder has blocks of the from _ResizeConv->Batchnorm->Dropout(applied to the first 2 blocks)->ReLU_. It takes in input the luminance L channel as a 128x128x1 tensor and produce the chromatic _a_ and _b_ channels as 128x128x2 tensor."
      ]
    },
    {
      "cell_type": "code",
      "metadata": {
        "id": "NjLXtuSafGPt"
      },
      "source": [
        "\"\"\"\n",
        "Define the architecture of the generator.\n",
        "\"\"\"\n",
        "def define_generator(input_shape, output_channel, n_blocks):\n",
        "  #initialize the weight with a normal distribution with mean 0 and standard deviation on 0.02.\n",
        "  initializer = tf.random_normal_initializer(0., 0.02)\n",
        "  #define the input.\n",
        "  inputs = Input(input_shape)\n",
        "\n",
        "  #the number of initial filters.\n",
        "  min_filters = 64\n",
        "  \n",
        "  #build the encoder part of the generator.\n",
        "  x = down_sample(inputs, 64, apply_batchnorm=False)\n",
        "  skips = [x]\n",
        "  nb_filters = [min_filters]\n",
        "  for i in range(1, n_blocks - 1):\n",
        "    filters = min_filters * min(8, (2 ** i))\n",
        "    x = down_sample(x, filters)\n",
        "    skips.append(x)\n",
        "    nb_filters.append(filters)\n",
        "  \n",
        "  #central block of the encoder-decoder \n",
        "  x = down_sample(x, 512, apply_batchnorm=False)\n",
        "\n",
        "  #build the decoder part of the generator. \n",
        "  nb_filters = reversed(nb_filters)\n",
        "  skips = reversed(skips)\n",
        "  for i, (filters, skip) in enumerate(zip(nb_filters, skips)):\n",
        "    apply_dp = i < 2\n",
        "    x = up_sample(x, skip, filters, apply_dropout=apply_dp)\n",
        "\n",
        "  #apply the last resize-convolution layer.\n",
        "  x = Resize_Conv2D(output_channel, 3, 1, use_bias=True)(x)\n",
        "  #apply the tanh convolution layer.\n",
        "  output = Activation('tanh')(x)\n",
        "  \n",
        "  #return the model\n",
        "  return Model(inputs=inputs, outputs=output)"
      ],
      "execution_count": 16,
      "outputs": []
    },
    {
      "cell_type": "markdown",
      "metadata": {
        "id": "DFn-Km-6L0Vi"
      },
      "source": [
        "# Discriminator\n",
        "\n",
        "The discriminator takes in input a batch of luminance L channel as 128x128x1 tensor and the chromatic a and b channels as a 128x128x2 tensor. This two inputs are concatenated to form the input image to be classified and then applies a series of downsampling Conv->Batchnorm->ReLU modules so that the receptived field of the last convolution layer which is used for the output, has size 70x70. The discriminator output is 14x14x1 tensor where each entry is classification of a 70x70 portion of the image. Assuming the kernel size is the same in each convolution operation, the receptive field of convolution layer at level $L$ can be calulated with following recursive equation:\n",
        "$$\n",
        "\\begin{aligned}\n",
        " r_0 &= k\\\\\n",
        "r_{i+1} &= s_{i-1}\\cdot r_{i-1} + (k + s_{i-1})\n",
        "\\end{aligned}  \n",
        "$$\n",
        "where $s_{i}$ is the number of stride of the convolution layer at level $i$. So $r_L$ is the receptive field of convolution layer at level L. "
      ]
    },
    {
      "cell_type": "code",
      "metadata": {
        "id": "mwOKFUeRfWM5"
      },
      "source": [
        "\"\"\"\n",
        "Define the architecture of the discriminator.\n",
        "\"\"\"\n",
        "def define_discriminator(input_shape, target_shape):\n",
        "  #initialize the weight with a normal distribution with mean 0 and standard deviation on 0.02.\n",
        "  initializer = tf.random_normal_initializer(0., 0.02)\n",
        "  #define the input that containes the luminance channel.\n",
        "  inp = Input(shape=input_shape, name='input_image')\n",
        "  #define the input that containes the chromatic channels.\n",
        "  tar = Input(shape=target_shape, name='target_image')\n",
        "  #concatenate the inputs\n",
        "  x = Concatenate()([inp, tar])\n",
        "\n",
        "  #downsamples steps.\n",
        "  x = down_sample(x, 64, apply_batchnorm=False)# (bs, 64, 64, 64)\n",
        "  x = down_sample(x, 128) # (bs, 32, 32, 128)\n",
        "  x = down_sample(x, 256) # (bs, 16, 16, 256)\n",
        "\n",
        "  #apply zero padding so that the \n",
        "  x = ZeroPadding2D()(x) #(bs, 18, 18, 256)\n",
        "  x = Conv2D(512, 4, strides=1, kernel_initializer=initializer, use_bias=False)(x)# (bs, 15, 15, 512)\n",
        "\n",
        "  #apply batchnormalization also at inference time.\n",
        "  x = BatchNormalization()(x, training=True)\n",
        "  x = LeakyReLU()(x)\n",
        "  x = ZeroPadding2D()(x)#(bs, 17, 17, 512)\n",
        "\n",
        "  #generate the output.\n",
        "  last = Conv2D(1, 4, strides=1, kernel_initializer=initializer)(x)#(bs, 14, 14, 1)\n",
        "  \n",
        "  #return the model.\n",
        "  return Model(inputs=[inp, tar], outputs=last)"
      ],
      "execution_count": 17,
      "outputs": []
    },
    {
      "cell_type": "markdown",
      "metadata": {
        "id": "KmXZgz7mUAJk"
      },
      "source": [
        "# Feature Loss\n",
        "\n",
        "Define the feature loss used as the additional loss for the generator. This loss is defined as the sum of the mean abbsolute error between the feature representation at layers _relu1\\_1_, _relu1\\_2_, _relu3\\_1_, _relu4\\_1_, _relu5\\_1_,_relu5\\_2_, _relu5\\_3_ and _relu5\\_4_ of the real image and the colorized in a pre-trained VGG19 network.\n",
        "\n",
        "<!-- $$\n",
        "\\begin{aligned}\n",
        "            L_{cGAN}(D) = &\\mathbb{E}_{x, y}[(D(x, y) - 1)^2] + \\mathbb{E}_{x}[(D(x, G(x)) +1)^2] \\\\\n",
        "            L_{cGAN}(G) = &\\mathbb{E}_{x}[(D(x, G(x)))^2] + \\lambda \\sum_{i}\\mathbb{E}_{x,y}||\\phi^i(y) - \\phi^i(G(x))||\n",
        "\\end{aligned}  \n",
        "$$\n",
        "where $\\phi^i(\\cdot)$ denotes _i_ layer activation in the VGG19 network. -->\n"
      ]
    },
    {
      "cell_type": "code",
      "metadata": {
        "id": "vEtcgyrZ_V0h"
      },
      "source": [
        "\"\"\"\n",
        "Define the model that outputs the activation of the choosen layers of the vgg19 network. \n",
        "\"\"\"\n",
        "def feature_extractor_model(input_shape):\n",
        "  #the choosen layer for the feature loss.\n",
        "  feature_layers = ['block1_conv1',\n",
        "                    'block1_conv2',\n",
        "                    'block3_conv1',\n",
        "                    'block4_conv1',\n",
        "                    'block5_conv1',\n",
        "                    'block5_conv2',\n",
        "                    'block5_conv3',\n",
        "                    'block5_conv4']\n",
        "\n",
        "  #load the pre trained VGG19 netowrk\n",
        "  vgg_model = tf.keras.applications.VGG19(include_top=False, input_shape=(128, 128, 3), weights='imagenet')\n",
        "  #freeze the weights of the model.\n",
        "  vgg_model.trainable = False\n",
        "\n",
        "  #extract the activation of the layer.\n",
        "  outputs = [vgg_model.get_layer(layer).output for layer in feature_layers]\n",
        "  \n",
        "  #define the model.\n",
        "  extractor = tf.keras.Model(vgg_model.input, outputs)\n",
        "  return extractor\n",
        "\n",
        "\"\"\"\n",
        "Implement the feature loss.\n",
        "\"\"\"\n",
        "@tf.function\n",
        "def feature_loss(feature_extractor, input_l, fake_ab, real_ab):\n",
        "  #wieghts of each loss.\n",
        "  feature_weights = [10, 10, 7, 7, 10, 10, 10, 10]\n",
        "\n",
        "  #convert the generated image from lab space to rgb.\n",
        "  fake_img = post_process(input_l, fake_ab, rescale=True)\n",
        "  #convert the real image from lab space to rgb.\n",
        "  real_img = post_process(input_l, real_ab, rescale=True)\n",
        "\n",
        "  #preprocess the images for the vgg19 netowrk.\n",
        "  fake_preprocessed = tf.keras.applications.vgg19.preprocess_input(fake_img)\n",
        "  real_preprocessed = tf.keras.applications.vgg19.preprocess_input(real_img)\n",
        "\n",
        "  #extract the feature representations\n",
        "  fake_features = feature_extractor(fake_preprocessed)\n",
        "  real_features = feature_extractor(real_preprocessed)\n",
        "\n",
        "  #calculate the sum of the mean absolut error between the feature representation of the fake and\n",
        "  #real image.\n",
        "  loss = tf.add_n([tf.reduce_mean(tf.abs(real-fake))*w\n",
        "                        for real, fake, w in zip(real_features, fake_features, feature_weights)])\n",
        "  #return the calculated loss.\n",
        "  return loss"
      ],
      "execution_count": 19,
      "outputs": []
    },
    {
      "cell_type": "markdown",
      "metadata": {
        "id": "xBhWK4ERJu0Z"
      },
      "source": [
        "# Generated samples"
      ]
    },
    {
      "cell_type": "code",
      "metadata": {
        "id": "4tXgNh9RP7md"
      },
      "source": [
        "\"\"\"\n",
        "Generate a plot showing the input, the colorization produce by\n",
        "generator and the image for each image in the given dataset.\n",
        "\"\"\"\n",
        "def generate_images(dataset, generator, save_path):\n",
        "  #For each image in the dataset produce the a tuple containg the input, the image itself\n",
        "  #and colorization done by the generator.\n",
        "  def generate(dataset, generator):\n",
        "    #create array for the inputs, the real images and the generated ones.\n",
        "    fake_images = np.empty(shape=(0, IMG_SIZE, IMG_SIZE, 3))\n",
        "    inputs = np.empty(shape=(0, IMG_SIZE, IMG_SIZE, 1))\n",
        "    real_images = np.empty_like(fake_images)\n",
        "    \n",
        "    for Ls, real, _ in dataset:\n",
        "      #predict the chromatic channels from the luminance channel.\n",
        "      fake_ABs = generator.predict(Ls)\n",
        "      #convert the generated image back to the RGB space\n",
        "      fake_RGBs = post_process(Ls, fake_ABs)\n",
        "\n",
        "      fake_images = np.append(fake_images, fake_RGBs, axis=0)\n",
        "      inputs = np.append(inputs, Ls, axis=0)\n",
        "      real_images = np.append(real_images, real, axis=0)\n",
        "\n",
        "    return inputs, real_images, fake_images \n",
        "\n",
        "  #Generate a plot showing the input, the colorization produce by\n",
        "  #generator and the image for each image in the given dataset.\n",
        "  fig =  plt.figure(dpi=300, figsize=(30,30), constrained_layout=False)\n",
        "\n",
        "  inputs, real_images, fake_images = generate(dataset, generator)\n",
        "  num_images = fake_images.shape[0]\n",
        "\n",
        "  grid = ImageGrid(fig, 141,  #\n",
        "                     nrows_ncols=(num_images, 3),\n",
        "                     axes_pad=0.01,\n",
        "                     label_mode=\"1\",\n",
        "                     )\n",
        "\n",
        "  title = ['Input','Real', 'Fake']\n",
        "\n",
        "  for n, (L, real, fake) in enumerate(zip(inputs, real_images, fake_images)):\n",
        "    input = (L[..., 0] + 1.0)/2.0\n",
        "    images = [input , real, fake]\n",
        "\n",
        "    for i in range(3):\n",
        "      ax = grid[n*3 + i]\n",
        "      ax.axis('off')\n",
        "      if n == 0:\n",
        "        ax.set_title(title[i])\n",
        "      if i == 0:\n",
        "        ax.imshow(images[i], cmap='gray', aspect='auto')\n",
        "      else:\n",
        "        ax.imshow(images[i], aspect='auto')\n",
        "      \n",
        "  fig.savefig(save_path, bbox_inches='tight', aspect='auto')"
      ],
      "execution_count": 20,
      "outputs": []
    },
    {
      "cell_type": "markdown",
      "metadata": {
        "id": "2hN-iJCuKFJy"
      },
      "source": [
        "# Pretraining\n",
        "\n",
        "Pretrain the generator using only the feature loss for 50 epochs. Given an input luminance channel $x$ and the target chromatic channels $y$, the training loop:\n",
        "\n",
        "1. Predict the output using the generator;\n",
        "2. Calculate the feature loss;\n",
        "3. Calculate the gradients with respect to the  generator variables;\n",
        "6. Apply the gradients to generator optimzer.\n",
        "\n"
      ]
    },
    {
      "cell_type": "code",
      "metadata": {
        "id": "eJ8yCAZAfYQ-"
      },
      "source": [
        "#Define a summary writer for tensor board in order to monitor the\n",
        "#the losses.\n",
        "import datetime\n",
        "log_dir=\"logs/\"\n",
        " \n",
        "summary_writer = tf.summary.create_file_writer(\n",
        "  log_dir + \"fit/\" + datetime.datetime.now().strftime(\"%Y%m%d-%H%M%S\"))"
      ],
      "execution_count": 19,
      "outputs": []
    },
    {
      "cell_type": "code",
      "metadata": {
        "id": "gSnt8V4TKeSY"
      },
      "source": [
        "#define the optimzer for the generator.\n",
        "optimizer = tf.keras.optimizers.Adam(0.0004, beta_1=0.5)\n",
        "#define the feature representation extractor.\n",
        "feature_extractor = feature_extractor_model((IMG_SIZE, IMG_SIZE, 3))"
      ],
      "execution_count": null,
      "outputs": []
    },
    {
      "cell_type": "code",
      "metadata": {
        "id": "gZ0d2HnnsmGi"
      },
      "source": [
        "#define the generator.\n",
        "generator = define_generator([IMG_SIZE, IMG_SIZE, 1], OUTPUT_CHANNELS, int(log2(IMG_SIZE)))"
      ],
      "execution_count": 22,
      "outputs": []
    },
    {
      "cell_type": "code",
      "metadata": {
        "id": "R0pbwf-wsGoX"
      },
      "source": [
        "#Define a checkpoint-manager in order to save the model weights during the pretraining so that after the\n",
        "#training the generator that yielded the best result can be restored.\n",
        "pretrianed_checkpoint = tf.train.Checkpoint(optimizer=optimizer,\n",
        "                                 generator=generator,\n",
        "                                 current_epoch=tf.Variable(0))\n",
        "pretrianed_manager = tf.train.CheckpointManager(pretrianed_checkpoint, f'{BASE_PATH}/pretrained', max_to_keep=8)"
      ],
      "execution_count": 24,
      "outputs": []
    },
    {
      "cell_type": "code",
      "metadata": {
        "id": "week-Fu6CSr_"
      },
      "source": [
        "\"\"\"\n",
        "Pretrain the generator using only the feature loss.\n",
        "\"\"\"\n",
        "def pretrain_generator(train_ds, epochs):\n",
        "  #define the progress bar layout.\n",
        "  widgets=[\n",
        "      progressbar.Bar(marker='=', left='[', right=']'),\n",
        "      progressbar.widgets.SimpleProgress(),\n",
        "      ' - ', progressbar.Timer(),'',\n",
        "      '-', progressbar.AdaptiveETA(), ''\n",
        "  ]\n",
        "\n",
        "  \"\"\"\n",
        "  Make a training step given a batch on inputs and targets\n",
        "  \"\"\"\n",
        "  @tf.function\n",
        "  def train_step(input, target, epoch):\n",
        "    with tf.GradientTape() as gen_tape:\n",
        "      #Produce the generator output given the input.\n",
        "      gen_output = generator(input, training=True)\n",
        "      #Calculate the feature loss.\n",
        "      loss = feature_loss(feature_extractor, input, gen_output, target)\n",
        "    \n",
        "    #Calculate the gradients with respect to the generator variables.\n",
        "    generator_gradients = gen_tape.gradient(loss, generator.trainable_variables)\n",
        "    \n",
        "    #Apply the gradient to the generator optimizer.\n",
        "    optimizer.apply_gradients(zip(generator_gradients, generator.trainable_variables))\n",
        "\n",
        "    #Log the loss in tensor board.\n",
        "    with summary_writer.as_default():\n",
        "      tf.summary.scalar('loss', loss, step=epoch)\n",
        "  \n",
        "  print('Starting pretraining generator...')\n",
        "  \n",
        "  #restore the model saved in in the latest chekpoint.\n",
        "  pretrianed_checkpoint.restore(pretrianed_manager.latest_checkpoint)\n",
        "  if pretrianed_manager.latest_checkpoint:\n",
        "    print(\"Restored from {}\".format(pretrianed_manager.latest_checkpoint))\n",
        "  else:\n",
        "    print(\"Initializing from scratch.\")\n",
        "  #retrieve the current epochs.\n",
        "  current_epoch = int(pretrianed_checkpoint.current_epoch)\n",
        "  #retrieve the number of batches.\n",
        "  iters = train_ds.cardinality().numpy()\n",
        "\n",
        "  for epoch in range(current_epoch, epochs):\n",
        "\n",
        "    print(f'Epoch: {epoch}')\n",
        "    \n",
        "    with progressbar.ProgressBar(max_value=iters, widgets=widgets) as pbar:\n",
        "      for n, (input_image, target, _) in train_ds.enumerate():\n",
        "        #do a training step.\n",
        "        train_step(input_image, target, epoch)\n",
        "        #update the progressabar\n",
        "        pbar.update(n.numpy())\n",
        "\n",
        "    #generate a plot with the generator colorization on the validation set.\n",
        "    path = f'{BASE_PATH}/pretrained/samples/sample_{epoch + 1}.jpg'\n",
        "    generate_images(val_dataset, generator, path);\n",
        "    \n",
        "    #increas the current epoch variable in the checkpoint-manager.\n",
        "    pretrianed_checkpoint.current_epoch.assign_add(1)\n",
        "    #save (checkpoint) the model after 10 epochs.\n",
        "    if epoch >= 10:\n",
        "      pretrianed_manager.save()\n",
        "    \n",
        "\n",
        "    clear_output()             "
      ],
      "execution_count": 29,
      "outputs": []
    },
    {
      "cell_type": "code",
      "metadata": {
        "id": "n252WlTVgND5"
      },
      "source": [
        "#load the tensor board.\n",
        "%load_ext tensorboard\n",
        "%tensorboard --logdir {log_dir}"
      ],
      "execution_count": null,
      "outputs": []
    },
    {
      "cell_type": "code",
      "metadata": {
        "id": "oU-kJ7ieK__s"
      },
      "source": [
        "#start training.\n",
        "pretrain_generator(train_dataset, PRETRAIN_EPOCHS)"
      ],
      "execution_count": null,
      "outputs": []
    },
    {
      "cell_type": "markdown",
      "metadata": {
        "id": "uGYljVkGOfjs"
      },
      "source": [
        "After the training save the weights of the generator that produced the best results."
      ]
    },
    {
      "cell_type": "code",
      "metadata": {
        "id": "vRSgJwYWwg6b"
      },
      "source": [
        "BEST_MODEL = 39\n",
        "pretrianed_checkpoint.restore(f'{BASE_PATH}/pretrained/ckpt-{BEST_MODEL}')\n",
        "generator.save_weights(f'{BASE_PATH}/pretrained/')"
      ],
      "execution_count": null,
      "outputs": []
    },
    {
      "cell_type": "markdown",
      "metadata": {
        "id": "P-bMu6MkP6Yf"
      },
      "source": [
        "# Losses and Optimzer\n",
        "\n",
        "The loss function of the cGAN is a LSGAN which replaces the binary cross entropy in the vanilla GAN loss with the Mean Squared Error. Moreover the generator is asked to minimize the feature loss between the target and its output. So The objective of Generator and Discrminator are:\n",
        "$$\n",
        "\\begin{aligned}\n",
        "            L_{cGAN}(D) = &\\mathbb{E}_{x, y}[(D(x, y) - 1)^2] + \\mathbb{E}_{x}[(D(x, G(x)) +1)^2] \\\\\n",
        "            L_{cGAN}(G) = &\\mathbb{E}_{x}[(D(x, G(x)))^2] + \\lambda \\sum_{i}\\mathbb{E}_{x,y}||\\phi^i(y) - \\phi^i(G(x))||\n",
        "\\end{aligned}  \n",
        "$$\n",
        "where $\\phi^i(\\cdot)$ denotes _i_ layer activation in the VGG19 network."
      ]
    },
    {
      "cell_type": "code",
      "metadata": {
        "id": "7AICkxOnfmxo"
      },
      "source": [
        "#use the mean squared error loss for the adversarial loss.\n",
        "loss_object = tf.keras.losses.MeanSquaredError()\n",
        "#the featur eextractor.\n",
        "feature_extractor = feature_extractor_model((IMG_SIZE, IMG_SIZE, 3))\n",
        "#define the optimzer for the generator.\n",
        "generator_optimizer = tf.keras.optimizers.Adam(0.0002, beta_1=0.5)\n",
        "#define the optimzer for the discriminator.\n",
        "discriminator_optimizer = tf.keras.optimizers.Adam(0.0002, beta_1=0.5)"
      ],
      "execution_count": 21,
      "outputs": []
    },
    {
      "cell_type": "code",
      "metadata": {
        "id": "jQ1TJGZKfMpg"
      },
      "source": [
        "def generator_loss(disc_generated_output, input, gen_output, target):\n",
        "  gan_loss = loss_object(tf.zeros_like(disc_generated_output), disc_generated_output)\n",
        " \n",
        "  \n",
        "  total_gen_loss = gan_loss + LAMBDA*f_loss\n",
        "\n",
        "  return total_gen_loss, gan_loss, f_loss\n",
        "\n",
        "  \"\"\"\n",
        "Calculate the loss for the generator.\n",
        "\"\"\"\n",
        "def generator_loss(disc_generated_output, input, gen_output, target):\n",
        "  #adversarial loss\n",
        "  gan_loss = loss_object(tf.zeros_like(disc_generated_output), disc_generated_output)\n",
        " \n",
        "  #the feature loss\n",
        "  f_loss = feature_loss(feature_extractor, input, gen_output, target)\n",
        "  \n",
        "  #the total loss is a linear combination of the adversarial loss and fearture loss\n",
        "  total_gen_loss = gan_loss + (LAMBDA * f_loss)\n",
        " \n",
        "  return total_gen_loss, gan_loss, f_loss"
      ],
      "execution_count": 22,
      "outputs": []
    },
    {
      "cell_type": "code",
      "metadata": {
        "id": "3TvqEEmXf1tv"
      },
      "source": [
        "\"\"\"\n",
        "Calculate the loss for the discriminator.\n",
        "\"\"\"\n",
        "def discriminator_loss(disc_real_output, disc_generated_output):\n",
        "  #loss term associated to the real data.\n",
        "  real_loss = loss_object(tf.ones_like(disc_real_output), disc_real_output)\n",
        "  \n",
        "  #loss term  associated to the fake data.\n",
        "  generated_loss = loss_object(tf.ones_like(disc_generated_output)*-1.0, disc_generated_output)\n",
        " \n",
        "  #the total loss is the sum of the loss of the real and fake data.\n",
        "  total_disc_loss = real_loss + generated_loss\n",
        " \n",
        "  return total_disc_loss"
      ],
      "execution_count": 23,
      "outputs": []
    },
    {
      "cell_type": "markdown",
      "metadata": {
        "id": "TzxH87tzT7UH"
      },
      "source": [
        "# Adversarial Training\n",
        "\n",
        "The training procedure follows the standard approach when trainng GANs that is jointly train the discriminator and generator by alternating one step of gradient descent of the discriminator with one of the generator.\n",
        "\n",
        "The following diagram shows one step of gradient step of the generator and discriminator.\n",
        "\n",
        "![Gen_Loss(1).jpg](data:image/jpeg;base64,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)\n",
        "\n",
        "Given an input luminance channel $x$ and the target chromatic channels $y$, a step in the training is defined as:\n",
        "\n",
        "1. Produce generator ouput $G(x)$ given the input $x$;\n",
        "2. Produce the the discriminator output $D(x, y)$ given the input $x$ and target $y$;\n",
        "3. Produce the the discriminator output $D(x, G(x))$ given the input and the output generated by the generator;\n",
        "4. Calcultate the generator and discriminator loss using the output generated in the previuos steps;\n",
        "5. Calculate the gradients with respect to the  generator and the discriminator variables;\n",
        "6. Apply the gradients to the corresponding  optimzer.\n",
        "\n",
        "\n",
        "\n",
        "(Image adapted from:[Pix2Pix tensorflow turorial](https://www.tensorflow.org/tutorials/generative/pix2pix?hl=en))"
      ]
    },
    {
      "cell_type": "code",
      "metadata": {
        "id": "1jrXLaeLj0d_"
      },
      "source": [
        "#define the generator.\n",
        "generator = define_generator([IMG_SIZE, IMG_SIZE, 1], OUTPUT_CHANNELS, int(log2(IMG_SIZE)))\n",
        "#define the discrimnator.\n",
        "discriminator = define_discriminator([IMG_SIZE, IMG_SIZE, 1], [IMG_SIZE, IMG_SIZE, 2])"
      ],
      "execution_count": 24,
      "outputs": []
    },
    {
      "cell_type": "code",
      "metadata": {
        "id": "XFLei0brw4es"
      },
      "source": [
        "#load the the weights of the pretrained generator.\n",
        "generator.load_weights(f'{BASE_PATH}/pretrained/').assert_consumed()"
      ],
      "execution_count": null,
      "outputs": []
    },
    {
      "cell_type": "code",
      "metadata": {
        "id": "K0eMDXlWf2OL"
      },
      "source": [
        "#Define a summary writer for tensor board in order to monitor the\n",
        "#the losses.\n",
        "import datetime\n",
        "log_dir=\"logs/\"\n",
        " \n",
        "summary_writer = tf.summary.create_file_writer(\n",
        "  log_dir + \"fit/\" + datetime.datetime.now().strftime(\"%Y%m%d-%H%M%S\"))"
      ],
      "execution_count": 25,
      "outputs": []
    },
    {
      "cell_type": "code",
      "metadata": {
        "id": "oo5mQ3W8jtId"
      },
      "source": [
        "\"\"\"\n",
        "Make a training step given a batch on inputs and targets.\n",
        "\"\"\"\n",
        "@tf.function\n",
        "def train_step(input, target, epoch):\n",
        "  with tf.GradientTape() as gen_tape, tf.GradientTape() as disc_tape:\n",
        "    #Produce the generator output given the input.\n",
        "    gen_output = generator(input)\n",
        "\n",
        "    #Produce the discriminator output given the input and the target.\n",
        "    disc_real_output = discriminator([input, target])\n",
        "    #Produce the discriminator output given the input and the generator output..\n",
        "    disc_generated_output = discriminator([input, gen_output])\n",
        "\n",
        "    #Calculate the generator loss.\n",
        "    gen_total_loss, gen_gan_loss, f_loss = generator_loss(disc_generated_output, input, gen_output, target)\n",
        "    #Calculate the discriminator loss.\n",
        "    disc_loss = discriminator_loss(disc_real_output, disc_generated_output)\n",
        "  \n",
        "  #Calculate the gradients with respect to the generator variables.\n",
        "  generator_gradients = gen_tape.gradient(gen_total_loss,\n",
        "                                          generator.trainable_variables)\n",
        "  #Calculate the gradients with respect to the discriminator variables.\n",
        "  discriminator_gradients = disc_tape.gradient(disc_loss,\n",
        "                                               discriminator.trainable_variables)\n",
        "  \n",
        "  #Apply the gradient to the generator optimizer.\n",
        "  generator_optimizer.apply_gradients(zip(generator_gradients,\n",
        "                                          generator.trainable_variables))\n",
        "  #Apply the gradient to the  discriminatoroptimizer.\n",
        "  discriminator_optimizer.apply_gradients(zip(discriminator_gradients,\n",
        "                                              discriminator.trainable_variables))\n",
        " \n",
        "  #Log the losses in tensor board.\n",
        "  with summary_writer.as_default():\n",
        "    tf.summary.scalar('gen_total_loss', gen_total_loss, step=epoch)\n",
        "    tf.summary.scalar('gen_gan_loss', gen_gan_loss, step=epoch)\n",
        "    tf.summary.scalar('gen_f_loss', f_loss, step=epoch)\n",
        "    tf.summary.scalar('disc_loss', disc_loss, step=epoch)"
      ],
      "execution_count": 26,
      "outputs": []
    },
    {
      "cell_type": "code",
      "metadata": {
        "id": "5a3FdfZTk7J6"
      },
      "source": [
        "#Define a checkpoint-manager in order to save the model weights during the training so that after the\n",
        "#training the model that yielded the best result can be restored.\n",
        "checkpoints = tf.train.Checkpoint(generator_optimizer=generator_optimizer,\n",
        "                                 discriminator_optimizer=discriminator_optimizer,\n",
        "                                 generator=generator,\n",
        "                                 discriminator=discriminator,\n",
        "                                 current_epoch=tf.Variable(0))\n",
        "manager = tf.train.CheckpointManager(checkpoints, f'{BASE_PATH}/checkpoints', max_to_keep=8)"
      ],
      "execution_count": 27,
      "outputs": []
    },
    {
      "cell_type": "markdown",
      "metadata": {
        "id": "KSn-NrPrkCMA"
      },
      "source": [
        "The training loop:\n",
        " \n",
        "* Reads the training dataset in chunk of batch size and for each chunk call do a trainin step;\n",
        "* After every epoch generates a plot with the colorization produced by the generator on the validation set;\n",
        "* Save the model weights after every epoc grater than 10.\n",
        "\n",
        "\n"
      ]
    },
    {
      "cell_type": "code",
      "metadata": {
        "id": "s0FbjAJoj-99"
      },
      "source": [
        "\"\"\"\n",
        "Define the trainin loop.\n",
        "\"\"\"\n",
        "def fit(train_ds, epochs):\n",
        "  #restore the model saved in in the latest chekpoint.\n",
        "  checkpoints.restore(manager.latest_checkpoint)\n",
        "\n",
        "  if manager.latest_checkpoint:\n",
        "    print(\"Restored from {}\".format(manager.latest_checkpoint))\n",
        "  else:\n",
        "    print(\"Initializing from scratch.\")\n",
        "\n",
        "  #retrieve the current epochs.\n",
        "  current_epoch = int(checkpoints.current_epoch)\n",
        "\n",
        "  #define the progress bar layout.\n",
        "  widgets=[\n",
        "    progressbar.Bar(marker='=', left='[', right=']'),\n",
        "    progressbar.widgets.SimpleProgress(),\n",
        "    ' - ', progressbar.Timer(), '',\n",
        "    '-', progressbar.AdaptiveETA(), ''\n",
        "  ]\n",
        "  #retrieve the number of batches.\n",
        "  iters = train_ds.cardinality().numpy()\n",
        "\n",
        "  for epoch in range(current_epoch, epochs):\n",
        "    \n",
        "    print(f'Epoch: {epoch + 1}')\n",
        "    # Train\n",
        "    with progressbar.ProgressBar(max_value=iters, widgets=widgets) as pbar:\n",
        "      for n, (input_image, target, _) in train_ds.enumerate():\n",
        "        #do a training step.\n",
        "        train_step(input_image, target, epoch)\n",
        "        #update the progressabar.\n",
        "        pbar.update(n.numpy())\n",
        "    \n",
        "    #generate a plot with the generator colorization on the validation set.\n",
        "    path = f'{BASE_PATH}/samples/sample_{epoch + 1}.jpg'\n",
        "    generate_images(val_dataset, generator , path);\n",
        "\n",
        "    #increas the current epoch variable in the checkpoint-manager.\n",
        "    checkpoints.current_epoch.assign_add(1)\n",
        "    #save (checkpoint) the model after 10 epochs.\n",
        "    if epoch >= 10:\n",
        "      manager.save()\n",
        "    #clear the output of the cell.\n",
        "    clear_output()"
      ],
      "execution_count": 28,
      "outputs": []
    },
    {
      "cell_type": "code",
      "metadata": {
        "id": "ayc7S9hWIIOl"
      },
      "source": [
        "#load the tensor board.\n",
        "%load_ext tensorboard\n",
        "%tensorboard --logdir {log_dir}"
      ],
      "execution_count": null,
      "outputs": []
    },
    {
      "cell_type": "code",
      "metadata": {
        "id": "Ainz9burlNU9"
      },
      "source": [
        "#start training.\n",
        "fit(train_dataset, EPOCHS)"
      ],
      "execution_count": null,
      "outputs": []
    },
    {
      "cell_type": "markdown",
      "metadata": {
        "id": "6oS2kCC5mqLV"
      },
      "source": [
        "After the training restore the weights of the generator that produced the best results and save its architecture and weights so that it can be created on the fly."
      ]
    },
    {
      "cell_type": "code",
      "metadata": {
        "id": "mYNJLob0TI6c"
      },
      "source": [
        "BEST_MODEL = 21\n",
        "checkpoints.restore(f'{BASE_PATH}/checkpoints/ckpt-{BEST_MODEL}')\n",
        "generator.save(f'{BASE_PATH}/Best model/', include_optimizer=False)"
      ],
      "execution_count": null,
      "outputs": []
    },
    {
      "cell_type": "markdown",
      "metadata": {
        "id": "7S3GYQrknuVt"
      },
      "source": [
        "# Test\n",
        "\n",
        "Load the model and generate coloriziation of the images in the test set."
      ]
    },
    {
      "cell_type": "code",
      "metadata": {
        "id": "WikiXn0bokEU"
      },
      "source": [
        "#load the generator.\n",
        "generator = tf.keras.models.load_model(f'{BASE_PATH}/Best model/')"
      ],
      "execution_count": null,
      "outputs": []
    },
    {
      "cell_type": "code",
      "metadata": {
        "id": "JJnI8dtVTYWg"
      },
      "source": [
        "#download the test dataset.\n",
        "shutil.copy(f'{BASE_PATH}/Test.zip', \".\")\n",
        "!unzip -q Test.zip\n",
        "!rm Test.zip"
      ],
      "execution_count": null,
      "outputs": []
    },
    {
      "cell_type": "code",
      "metadata": {
        "id": "Wk7SjqZxlbG5"
      },
      "source": [
        "#create the test dataset input pipeline.\n",
        "test_paths = tf.data.Dataset.list_files('/content/Test/*.jpg', shuffle=False)\n",
        "test_dataset = test_paths.map(load_image_test, deterministic=True)\\\n",
        "                          .batch(BATCH_SIZE)\\\n",
        "                          .prefetch(AUTOTUNE)\n",
        "\n",
        "#generate the colorization of the images in the training dataset.\n",
        "for Ls, _, file_paths in test_dataset:\n",
        "\n",
        "  fake_ABs = generator.predict(Ls)\n",
        "\n",
        "  fake_LABs = tf.concat([Ls, fake_ABs], axis=-1)\n",
        "  fake_LABs = denormalise(fake_LABs)\n",
        "  fake_RGBs = convert2rgb(fake_LABs)\n",
        "\n",
        "  for (fake, file_path) in zip(fake_RGBs, file_paths):\n",
        "    fake_img = tf.image.convert_image_dtype(fake, dtype=tf.uint8)\n",
        "    img = tf.image.encode_jpeg(fake_img)\n",
        "\n",
        "    filename = os.path.basename(file_path.numpy())\n",
        "    save_path= f'/content/drive/My Drive/VCS Project/examples/{filename.decode(\"utf-8\")}'\n",
        "    tf.io.write_file(save_path, img)"
      ],
      "execution_count": null,
      "outputs": []
    },
    {
      "cell_type": "code",
      "metadata": {
        "id": "jgzjIkPVj-E-"
      },
      "source": [
        "drive.flush_and_unmount()"
      ],
      "execution_count": null,
      "outputs": []
    }
  ]
}